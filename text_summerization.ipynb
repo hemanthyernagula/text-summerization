{
 "cells": [
  {
   "cell_type": "code",
   "execution_count": 1,
   "id": "d55dcf6f-f4b4-4b16-9288-fc1c30dff210",
   "metadata": {},
   "outputs": [],
   "source": [
    "from datasets import load_dataset\n",
    "from transformers import AutoModelForSeq2SeqLM\n",
    "from transformers import AutoTokenizer\n",
    "from transformers import GenerationConfig"
   ]
  },
  {
   "cell_type": "code",
   "execution_count": 2,
   "id": "7956f14d-e35c-4832-b479-c909899d601a",
   "metadata": {},
   "outputs": [
    {
     "data": {
      "application/vnd.jupyter.widget-view+json": {
       "model_id": "9b6b469fc0e842a798a68f6d49d5f52e",
       "version_major": 2,
       "version_minor": 0
      },
      "text/plain": [
       "Downloading readme:   0%|          | 0.00/4.65k [00:00<?, ?B/s]"
      ]
     },
     "metadata": {},
     "output_type": "display_data"
    },
    {
     "data": {
      "application/vnd.jupyter.widget-view+json": {
       "model_id": "150434a0d9914b1aa1017bfcb37aa59c",
       "version_major": 2,
       "version_minor": 0
      },
      "text/plain": [
       "Downloading data files:   0%|          | 0/3 [00:00<?, ?it/s]"
      ]
     },
     "metadata": {},
     "output_type": "display_data"
    },
    {
     "data": {
      "application/vnd.jupyter.widget-view+json": {
       "model_id": "fd86b7c0c5c4436782bf8cdd990a1a0a",
       "version_major": 2,
       "version_minor": 0
      },
      "text/plain": [
       "Downloading data:   0%|          | 0.00/11.3M [00:00<?, ?B/s]"
      ]
     },
     "metadata": {},
     "output_type": "display_data"
    },
    {
     "data": {
      "application/vnd.jupyter.widget-view+json": {
       "model_id": "57fce1da6f2c40ba9f441617f07a2dff",
       "version_major": 2,
       "version_minor": 0
      },
      "text/plain": [
       "Downloading data:   0%|          | 0.00/442k [00:00<?, ?B/s]"
      ]
     },
     "metadata": {},
     "output_type": "display_data"
    },
    {
     "data": {
      "application/vnd.jupyter.widget-view+json": {
       "model_id": "125e10ab2e184b89bebfb432e160f417",
       "version_major": 2,
       "version_minor": 0
      },
      "text/plain": [
       "Downloading data:   0%|          | 0.00/1.35M [00:00<?, ?B/s]"
      ]
     },
     "metadata": {},
     "output_type": "display_data"
    },
    {
     "data": {
      "application/vnd.jupyter.widget-view+json": {
       "model_id": "5e9934b0ecd148669342e4becea3643a",
       "version_major": 2,
       "version_minor": 0
      },
      "text/plain": [
       "Extracting data files:   0%|          | 0/3 [00:00<?, ?it/s]"
      ]
     },
     "metadata": {},
     "output_type": "display_data"
    },
    {
     "data": {
      "application/vnd.jupyter.widget-view+json": {
       "model_id": "46388c1081794889901c566d21f2734c",
       "version_major": 2,
       "version_minor": 0
      },
      "text/plain": [
       "Generating train split: 0 examples [00:00, ? examples/s]"
      ]
     },
     "metadata": {},
     "output_type": "display_data"
    },
    {
     "data": {
      "application/vnd.jupyter.widget-view+json": {
       "model_id": "1b1fc22a2d894849b9035b41014527e4",
       "version_major": 2,
       "version_minor": 0
      },
      "text/plain": [
       "Generating validation split: 0 examples [00:00, ? examples/s]"
      ]
     },
     "metadata": {},
     "output_type": "display_data"
    },
    {
     "data": {
      "application/vnd.jupyter.widget-view+json": {
       "model_id": "a3897a894b6e4addb48bf7e67d60ceac",
       "version_major": 2,
       "version_minor": 0
      },
      "text/plain": [
       "Generating test split: 0 examples [00:00, ? examples/s]"
      ]
     },
     "metadata": {},
     "output_type": "display_data"
    }
   ],
   "source": [
    "huggingface_dataset_name = \"knkarthick/dialogsum\"\n",
    "\n",
    "dataset = load_dataset(huggingface_dataset_name)"
   ]
  },
  {
   "cell_type": "markdown",
   "id": "19ab6c18-1acf-47f9-b09d-fa5ad8a682b2",
   "metadata": {},
   "source": [
    "### Sample Data"
   ]
  },
  {
   "cell_type": "code",
   "execution_count": 11,
   "id": "d050750e-9c50-443b-9d46-6b4484e3db2e",
   "metadata": {},
   "outputs": [
    {
     "name": "stdout",
     "output_type": "stream",
     "text": [
      "conversation:\n",
      " #Person1#: Hi, Mr. Smith. I'm Doctor Hawkins. Why are you here today?\n",
      "#Person2#: I found it would be a good idea to get a check-up.\n",
      "#Person1#: Yes, well, you haven't had one for 5 years. You should have one every year.\n",
      "#Person2#: I know. I figure as long as there is nothing wrong, why go see the doctor?\n",
      "#Person1#: Well, the best way to avoid serious illnesses is to find out about them early. So try to come at least once a year for your own good.\n",
      "#Person2#: Ok.\n",
      "#Person1#: Let me see here. Your eyes and ears look fine. Take a deep breath, please. Do you smoke, Mr. Smith?\n",
      "#Person2#: Yes.\n",
      "#Person1#: Smoking is the leading cause of lung cancer and heart disease, you know. You really should quit.\n",
      "#Person2#: I've tried hundreds of times, but I just can't seem to kick the habit.\n",
      "#Person1#: Well, we have classes and some medications that might help. I'll give you more information before you leave.\n",
      "#Person2#: Ok, thanks doctor.\n",
      "\n",
      "\n",
      "summary:\n",
      " Mr. Smith's getting a check-up, and Doctor Hawkins advises him to have one every year. Hawkins'll give some information about their classes and medications to help Mr. Smith quit smoking.\n",
      "                                                 =                                                  \n",
      "conversation:\n",
      " #Person1#: Hello Mrs. Parker, how have you been?\n",
      "#Person2#: Hello Dr. Peters. Just fine thank you. Ricky and I are here for his vaccines.\n",
      "#Person1#: Very well. Let's see, according to his vaccination record, Ricky has received his Polio, Tetanus and Hepatitis B shots. He is 14 months old, so he is due for Hepatitis A, Chickenpox and Measles shots.\n",
      "#Person2#: What about Rubella and Mumps?\n",
      "#Person1#: Well, I can only give him these for now, and after a couple of weeks I can administer the rest.\n",
      "#Person2#: OK, great. Doctor, I think I also may need a Tetanus booster. Last time I got it was maybe fifteen years ago!\n",
      "#Person1#: We will check our records and I'll have the nurse administer and the booster as well. Now, please hold Ricky's arm tight, this may sting a little.\n",
      "\n",
      "\n",
      "summary:\n",
      " Mrs Parker takes Ricky for his vaccines. Dr. Peters checks the record and then gives Ricky a vaccine.\n",
      "                                                 =                                                  \n",
      "conversation:\n",
      " #Person1#: Excuse me, did you see a set of keys?\n",
      "#Person2#: What kind of keys?\n",
      "#Person1#: Five keys and a small foot ornament.\n",
      "#Person2#: What a shame! I didn't see them.\n",
      "#Person1#: Well, can you help me look for it? That's my first time here.\n",
      "#Person2#: Sure. It's my pleasure. I'd like to help you look for the missing keys.\n",
      "#Person1#: It's very kind of you.\n",
      "#Person2#: It's not a big deal.Hey, I found them.\n",
      "#Person1#: Oh, thank God! I don't know how to thank you, guys.\n",
      "#Person2#: You're welcome.\n",
      "\n",
      "\n",
      "summary:\n",
      " #Person1#'s looking for a set of keys and asks for #Person2#'s help to find them.\n",
      "                                                 =                                                  \n",
      "conversation:\n",
      " #Person1#: Why didn't you tell me you had a girlfriend?\n",
      "#Person2#: Sorry, I thought you knew.\n",
      "#Person1#: But you should tell me you were in love with her.\n",
      "#Person2#: Didn't I?\n",
      "#Person1#: You know you didn't.\n",
      "#Person2#: Well, I am telling you now.\n",
      "#Person1#: Yes, but you might have told me before.\n",
      "#Person2#: I didn't think you would be interested.\n",
      "#Person1#: You can't be serious. How dare you not tell me you are going to marry her?\n",
      "#Person2#: Sorry, I didn't think it mattered.\n",
      "#Person1#: Oh, you men! You are all the same.\n",
      "\n",
      "\n",
      "summary:\n",
      " #Person1#'s angry because #Person2# didn't tell #Person1# that #Person2# had a girlfriend and would marry her.\n",
      "                                                 =                                                  \n",
      "conversation:\n",
      " #Person1#: Watsup, ladies! Y'll looking'fine tonight. May I have this dance?\n",
      "#Person2#: He's cute! He looks like Tiger Woods! But, I can't dance. . .\n",
      "#Person1#: It's all good. I'll show you all the right moves. My name's Malik.\n",
      "#Person2#: Nice to meet you. I'm Wen, and this is Nikki.\n",
      "#Person1#: How you feeling', vista? Mind if I take your friend'round the dance floor?\n",
      "#Person2#: She doesn't mind if you don't mind getting your feet stepped on.\n",
      "#Person1#: Right. Cool! Let's go!\n",
      "\n",
      "\n",
      "summary:\n",
      " Malik invites Nikki to dance. Nikki agrees if Malik doesn't mind getting his feet stepped on.\n",
      "                                                 =                                                  \n",
      "conversation:\n",
      " #Person1#: Happy birthday, Aims!\n",
      "#Person2#: Thank you, Lisa.\n",
      "#Person1#: Here is a present for you. I hope you like it.\n",
      "#Person2#: Oh, great! I love it! You know I've been expecting this for a long time.\n",
      "#Person1#: I'm very glad to hear that.\n",
      "#Person2#: Come here ; let me introduce some friends to you.\n",
      "\n",
      "\n",
      "summary:\n",
      " Lisa gives Aims a birthday present and Aims loves it.\n",
      "                                                 =                                                  \n",
      "conversation:\n",
      " #Person1#: Here we come.\n",
      "#Person2#: Thank you. What's the fare?\n",
      "#Person1#: $ 10.\n",
      "#Person2#: How can it be?\n",
      "#Person1#: Well, the rate is two dollars for the first two kilometers and twenty cents for each additional two hundred meters.\n",
      "#Person2#: I see. Thanks for your drive.\n",
      "\n",
      "\n",
      "summary:\n",
      " #Person1# tells #Person2# the fare of taking a taxi.\n",
      "                                                 =                                                  \n",
      "conversation:\n",
      " #Person1#: Can I help you?\n",
      "#Person2#: Yes. I sent in my resume at the end of last week. I'm applying for the accounts assistant position.\n",
      "#Person1#: May I have your name please?\n",
      "#Person2#: My name is Judy Liao. That's spelled L I A O.\n",
      "#Person1#: Alright. . . And did you have some specific questions about your application?\n",
      "#Person2#: Not really. I was in the neighborhood, and I just wanted to stop in to see if you received my resume.\n",
      "#Person1#: Oh, that's no problem. Just give me a moment, and I can check. Judy Liao. Let's see. . . Yes, here it is. Judy Liao. We have received your resume.\n",
      "#Person2#: Thank you.\n",
      "#Person1#: Is there anything else I can help you with?\n",
      "#Person2#: Yes, maybe. The ad in the newspaper said you wanted the resume, a cover letter, and two letters of recommendation. I included those things in the envelope. Is there anything else I should send?\n",
      "#Person1#: No, that is all we need. If we have those things included, that is sufficient.\n",
      "#Person2#: Do you know when they will start setting up interviews for the job?\n",
      "#Person1#: I'm not really sure about that. But I know we are still receiving resumes. Maybe after a week or two they will start calling applicants.\n",
      "#Person2#: I see. Well, thank you very much for helping me. You have been very helpful.\n",
      "#Person1#: If you have any further questions, you can call any time.\n",
      "#Person2#: Thank you.\n",
      "#Person1#: Thank you. Goodbye.\n",
      "\n",
      "\n",
      "summary:\n",
      " Judy Liao's applying for the accounts assistant position. She asks #Person1# whether they have received her resume, and #Person1# helps her check. #Person1# tells Judy there's nothing else she should send, and after a week or two they may start calling applicants.\n",
      "                                                 =                                                  \n",
      "conversation:\n",
      " #Person1#: This is a good basic computer package. It's got a good CPU, 256 megabytes of RAM, and a DVD player.\n",
      "#Person2#: Does it come with a modem?\n",
      "#Person1#: Yes, it has a built-in modem. You just plug a phone line into the back of the computer.\n",
      "#Person2#: How about the monitor?\n",
      "#Person1#: A 15 - inch monitor is included in the deal. If you want, you can switch it for a 17 - inch monitor, for a little more money.\n",
      "#Person2#: That's okay. A 15 - inch is good enough. All right, I'll take it.\n",
      "\n",
      "\n",
      "summary:\n",
      " #Person1# shows a basic computer package to #Person2#. #Person2# thinks it's good and will take it.\n",
      "                                                 =                                                  \n",
      "conversation:\n",
      " #Person1#: Excuse me, do you know where the visa office is?\n",
      "#Person2#: Yes, I do. I'll walk you there.\n",
      "#Person1#: Thanks.\n",
      "#Person2#: Are you applying to study or work abroad?\n",
      "#Person1#: I want to study abroad.\n",
      "#Person2#: What do you want to study?\n",
      "#Person1#: I hope to study English Literature.\n",
      "#Person2#: Have you got your visa yet?\n",
      "#Person1#: Not yet. I have an interview with a visa official today.\n",
      "#Person2#: I see. Is it your first interview?\n",
      "#Person1#: No, I'Ve already been here for 3 interviews.\n",
      "\n",
      "\n",
      "summary:\n",
      " #Person1# has an interview with a visa official. #Person1# asks #Person2# the way to the visa office.\n",
      "                                                 =                                                  \n"
     ]
    }
   ],
   "source": [
    "\n",
    "for i in range(10):\n",
    "    print(\"conversation:\\n\",dataset['train']['dialogue'][i])\n",
    "    print(\"\\n\\nsummary:\\n\",dataset['train']['summary'][i])\n",
    "    print(\"=\".center(100))"
   ]
  },
  {
   "cell_type": "markdown",
   "id": "5f4ead81-e6ad-4677-91c8-165e0a964ac6",
   "metadata": {},
   "source": [
    "## Loading Model"
   ]
  },
  {
   "cell_type": "code",
   "execution_count": 17,
   "id": "230b4376-35bd-4647-8a21-37382fe0c22b",
   "metadata": {},
   "outputs": [
    {
     "data": {
      "application/vnd.jupyter.widget-view+json": {
       "model_id": "f543e2258684407ebce440d5e8819205",
       "version_major": 2,
       "version_minor": 0
      },
      "text/plain": [
       "Downloading (…)lve/main/config.json:   0%|          | 0.00/1.40k [00:00<?, ?B/s]"
      ]
     },
     "metadata": {},
     "output_type": "display_data"
    },
    {
     "data": {
      "application/vnd.jupyter.widget-view+json": {
       "model_id": "f775ba3bee2846828cee5812967b2842",
       "version_major": 2,
       "version_minor": 0
      },
      "text/plain": [
       "Downloading model.safetensors:   0%|          | 0.00/990M [00:00<?, ?B/s]"
      ]
     },
     "metadata": {},
     "output_type": "display_data"
    },
    {
     "data": {
      "application/vnd.jupyter.widget-view+json": {
       "model_id": "6f129f2113d64570baefcef284ea6013",
       "version_major": 2,
       "version_minor": 0
      },
      "text/plain": [
       "Downloading (…)neration_config.json:   0%|          | 0.00/147 [00:00<?, ?B/s]"
      ]
     },
     "metadata": {},
     "output_type": "display_data"
    }
   ],
   "source": [
    "model_name='google/flan-t5-base'\n",
    "\n",
    "model = AutoModelForSeq2SeqLM.from_pretrained(model_name)"
   ]
  },
  {
   "cell_type": "code",
   "execution_count": 18,
   "id": "b21be685-3088-46bd-8554-64c7c494fd8e",
   "metadata": {},
   "outputs": [
    {
     "data": {
      "application/vnd.jupyter.widget-view+json": {
       "model_id": "dd2d3a94f2f348d4a21a8968e4e7f409",
       "version_major": 2,
       "version_minor": 0
      },
      "text/plain": [
       "Downloading (…)okenizer_config.json:   0%|          | 0.00/2.54k [00:00<?, ?B/s]"
      ]
     },
     "metadata": {},
     "output_type": "display_data"
    },
    {
     "data": {
      "application/vnd.jupyter.widget-view+json": {
       "model_id": "8c83d7e768104143a3a9d34dc602d2e1",
       "version_major": 2,
       "version_minor": 0
      },
      "text/plain": [
       "Downloading spiece.model:   0%|          | 0.00/792k [00:00<?, ?B/s]"
      ]
     },
     "metadata": {},
     "output_type": "display_data"
    },
    {
     "data": {
      "application/vnd.jupyter.widget-view+json": {
       "model_id": "acda1919f1614247a84616871f348243",
       "version_major": 2,
       "version_minor": 0
      },
      "text/plain": [
       "Downloading (…)/main/tokenizer.json:   0%|          | 0.00/2.42M [00:00<?, ?B/s]"
      ]
     },
     "metadata": {},
     "output_type": "display_data"
    },
    {
     "data": {
      "application/vnd.jupyter.widget-view+json": {
       "model_id": "dd2c962d98be4b63b6c285a412728de9",
       "version_major": 2,
       "version_minor": 0
      },
      "text/plain": [
       "Downloading (…)cial_tokens_map.json:   0%|          | 0.00/2.20k [00:00<?, ?B/s]"
      ]
     },
     "metadata": {},
     "output_type": "display_data"
    }
   ],
   "source": [
    "tokenizer = AutoTokenizer.from_pretrained(model_name, use_fast=True)"
   ]
  },
  {
   "cell_type": "markdown",
   "id": "eaf6bf86-b308-4d73-84ff-5d3a1aff9376",
   "metadata": {},
   "source": [
    "## Sample tokens"
   ]
  },
  {
   "cell_type": "code",
   "execution_count": 23,
   "id": "c0c87be2-74ac-4b20-9f05-ae8b69b46aeb",
   "metadata": {},
   "outputs": [
    {
     "name": "stdout",
     "output_type": "stream",
     "text": [
      "sentence : this is testing\n",
      "tokenized sentence : tensor([[  48,   19, 2505,    1]])\n",
      "decoded : this is testing</s>\n"
     ]
    }
   ],
   "source": [
    "sentence = \"this is testing\"\n",
    "\n",
    "tokenized = tokenizer(sentence, return_tensors=\"pt\")\n",
    "\n",
    "print(f\"sentence : {sentence}\")\n",
    "print(f\"tokenized sentence : {tokenized.get('input_ids')}\")\n",
    "\n",
    "tokens_decoded = tokenizer.decode(tokenized.get(\"input_ids\")[0])\n",
    "print(f\"decoded : {tokens_decoded}\")"
   ]
  },
  {
   "cell_type": "markdown",
   "id": "99fb673b-21c5-4a63-8efe-53354d0793f3",
   "metadata": {},
   "source": [
    "## [ZERO SHOT] Predicting without any prompt engineering"
   ]
  },
  {
   "cell_type": "code",
   "execution_count": 100,
   "id": "269aa989-9cd6-4147-a727-bddcd03c5bef",
   "metadata": {},
   "outputs": [],
   "source": [
    "def predict(text, config=None):\n",
    "    inputs = tokenizer(text, return_tensors=\"pt\")\n",
    "    inputs = inputs.get(\"input_ids\")\n",
    "    pred = model.generate(inputs, max_new_tokens=50, generation_config=config)[0]\n",
    "    \n",
    "    tokens_decoded = tokenizer.decode(pred, skip_special_tokens=True)\n",
    "    print(f\"output : {tokens_decoded}\")"
   ]
  },
  {
   "cell_type": "code",
   "execution_count": 85,
   "id": "7fa4bac0-0cd2-4dd6-861d-9631d211a034",
   "metadata": {},
   "outputs": [],
   "source": [
    "def get_prompt(text):\n",
    "    return f\"\"\"\n",
    "        Summerize below conversation:\n",
    "        {text}\n",
    "\n",
    "        Summary:\n",
    "    \"\"\"\n",
    "\n",
    "\n",
    "def get_prompt2(text):\n",
    "    return f\"\"\"\n",
    "        Summerize below conversation:\n",
    "        {text}\n",
    "\n",
    "        what is summary of above conversation between person1 and person2\n",
    "    \"\"\"\n",
    "\n",
    "def get_n_shot_prompt(index, n=1):\n",
    "\n",
    "    prompt = \"\"\n",
    "    for i in range(n):\n",
    "            \n",
    "        temp = f\"\"\"\n",
    "        Summerize below conversation:\n",
    "        \n",
    "        {dataset['train']['dialogue'][i]}\n",
    "    \n",
    "        SUMMERY:\n",
    "        {dataset['train']['summary'][i]}\n",
    "            \n",
    "        \"\"\"\n",
    "        prompt += temp\n",
    "\n",
    "    \n",
    "    \n",
    "    sentence = f\"\"\"\n",
    "        Summerize below conversation:\n",
    "        \n",
    "        {dataset['train']['dialogue'][index]}\n",
    "    \n",
    "        SUMMERY:\n",
    "        \n",
    "    \"\"\"\n",
    "    \n",
    "    prompt += sentence\n",
    "    return prompt"
   ]
  },
  {
   "cell_type": "code",
   "execution_count": 59,
   "id": "f14733aa-6754-4afd-9e05-42c175297760",
   "metadata": {},
   "outputs": [
    {
     "name": "stdout",
     "output_type": "stream",
     "text": [
      "output : #Person1#: I need some sugar, oranges, and milk. #Person2#: Okay.\n"
     ]
    }
   ],
   "source": [
    "prompt = get_prompt(\n",
    "    dataset['train']['dialogue'][10]\n",
    ")\n",
    "predict(prompt)"
   ]
  },
  {
   "cell_type": "markdown",
   "id": "6c3e820b-a304-4297-a6f9-4f74f6958d87",
   "metadata": {},
   "source": [
    "## [ZERO SHOT] Predicting with prompt engineering"
   ]
  },
  {
   "cell_type": "code",
   "execution_count": 43,
   "id": "c0a04a00-bdfe-4dcd-937c-67f5ed78ad78",
   "metadata": {},
   "outputs": [
    {
     "name": "stdout",
     "output_type": "stream",
     "text": [
      "output : <pad> Ricky is coming to the doctor's office for his vaccinations.</s>\n"
     ]
    }
   ],
   "source": [
    "prompt = get_prompt(\n",
    "    dataset['train']['dialogue'][1]\n",
    ")\n",
    "predict(prompt)"
   ]
  },
  {
   "cell_type": "markdown",
   "id": "427a4e88-b6a3-4b57-be12-741e084b42b5",
   "metadata": {},
   "source": [
    "## [ONE SHOT] Prediction"
   ]
  },
  {
   "cell_type": "code",
   "execution_count": 46,
   "id": "ae13e3dc-a49d-45f9-8daa-5d0cbb48877a",
   "metadata": {},
   "outputs": [
    {
     "data": {
      "text/plain": [
       "\"Mr. Smith's getting a check-up, and Doctor Hawkins advises him to have one every year. Hawkins'll give some information about their classes and medications to help Mr. Smith quit smoking.\""
      ]
     },
     "execution_count": 46,
     "metadata": {},
     "output_type": "execute_result"
    }
   ],
   "source": [
    "dataset['train']['summary'][0]"
   ]
  },
  {
   "cell_type": "code",
   "execution_count": 92,
   "id": "ed067fe9-98d3-47f7-8e70-0a437b114a7f",
   "metadata": {
    "scrolled": true
   },
   "outputs": [
    {
     "name": "stdout",
     "output_type": "stream",
     "text": [
      "\n",
      "        Summerize below conversation:\n",
      "        \n",
      "        #Person1#: Hi, Mr. Smith. I'm Doctor Hawkins. Why are you here today?\n",
      "#Person2#: I found it would be a good idea to get a check-up.\n",
      "#Person1#: Yes, well, you haven't had one for 5 years. You should have one every year.\n",
      "#Person2#: I know. I figure as long as there is nothing wrong, why go see the doctor?\n",
      "#Person1#: Well, the best way to avoid serious illnesses is to find out about them early. So try to come at least once a year for your own good.\n",
      "#Person2#: Ok.\n",
      "#Person1#: Let me see here. Your eyes and ears look fine. Take a deep breath, please. Do you smoke, Mr. Smith?\n",
      "#Person2#: Yes.\n",
      "#Person1#: Smoking is the leading cause of lung cancer and heart disease, you know. You really should quit.\n",
      "#Person2#: I've tried hundreds of times, but I just can't seem to kick the habit.\n",
      "#Person1#: Well, we have classes and some medications that might help. I'll give you more information before you leave.\n",
      "#Person2#: Ok, thanks doctor.\n",
      "    \n",
      "        SUMMERY:\n",
      "        Mr. Smith's getting a check-up, and Doctor Hawkins advises him to have one every year. Hawkins'll give some information about their classes and medications to help Mr. Smith quit smoking.\n",
      "            \n",
      "        \n",
      "        Summerize below conversation:\n",
      "        \n",
      "        #Person1#: What's all the security check about, Jimmy? Does it mean the bar may be a dangerous place?\n",
      "#Person2#: No, of course not. Just in case. Nothing to worry about. Don't you also do this in China?\n",
      "#Person1#: I don't know. Maybe the same. Actually, this is my first time being in a bar.\n",
      "#Person2#: Oh, then it's my honor to be here with you. I can see now why you've been so curious about the bar stuff. You like this place?\n",
      "#Person1#: Sure. I love this place, especially the decoration. So tasteful!\n",
      "#Person2#: Yeah. Other than that, the real feature are the excellent drinks. Can I have your ticket?\n",
      "#Person1#: Here it is. But, what for? We're already in.\n",
      "#Person2#: Well, with the ticket, you can get a free drink. What would you like? Orange juice?\n",
      "#Person1#: Yes, orange juice will be fine for me. But how can you get the drink? It's so crowded there around the counter. You can barely move.\n",
      "#Person2#: I'll show you how. The bar tenders know whose turn it is. And also, I can snap my fingers to catch his attention.\n",
      "#Person1#: Cool. Thanks.\n",
      "    \n",
      "        SUMMERY:\n",
      "        \n",
      "    \n"
     ]
    }
   ],
   "source": [
    "\n",
    "prompt = get_n_shot_prompt(25, 1)\n",
    "print(prompt)"
   ]
  },
  {
   "cell_type": "code",
   "execution_count": 93,
   "id": "eae47421-9cfc-4282-b2b0-e3effbf9988c",
   "metadata": {},
   "outputs": [
    {
     "name": "stdout",
     "output_type": "stream",
     "text": [
      "output : The bar is a good place to meet people.\n"
     ]
    }
   ],
   "source": [
    "predict(prompt)"
   ]
  },
  {
   "cell_type": "code",
   "execution_count": 94,
   "id": "0a18778f-cf79-4e93-a349-720fcca7d4c7",
   "metadata": {},
   "outputs": [
    {
     "name": "stdout",
     "output_type": "stream",
     "text": [
      "\n",
      "        Summerize below conversation:\n",
      "        \n",
      "        #Person1#: Hi, Mr. Smith. I'm Doctor Hawkins. Why are you here today?\n",
      "#Person2#: I found it would be a good idea to get a check-up.\n",
      "#Person1#: Yes, well, you haven't had one for 5 years. You should have one every year.\n",
      "#Person2#: I know. I figure as long as there is nothing wrong, why go see the doctor?\n",
      "#Person1#: Well, the best way to avoid serious illnesses is to find out about them early. So try to come at least once a year for your own good.\n",
      "#Person2#: Ok.\n",
      "#Person1#: Let me see here. Your eyes and ears look fine. Take a deep breath, please. Do you smoke, Mr. Smith?\n",
      "#Person2#: Yes.\n",
      "#Person1#: Smoking is the leading cause of lung cancer and heart disease, you know. You really should quit.\n",
      "#Person2#: I've tried hundreds of times, but I just can't seem to kick the habit.\n",
      "#Person1#: Well, we have classes and some medications that might help. I'll give you more information before you leave.\n",
      "#Person2#: Ok, thanks doctor.\n",
      "    \n",
      "        SUMMERY:\n",
      "        Mr. Smith's getting a check-up, and Doctor Hawkins advises him to have one every year. Hawkins'll give some information about their classes and medications to help Mr. Smith quit smoking.\n",
      "            \n",
      "        \n",
      "        Summerize below conversation:\n",
      "        \n",
      "        #Person1#: Hello, what can I do for you?\n",
      "#Person2#: Um. . . Hello, I would like to open an account.\n",
      "#Person1#: OK! What kind of account do you want to open?\n",
      "#Person2#: I want to open a current account.\n",
      "#Person1#: I will open it for you right now.\n",
      "#Person2#: What's the minimum deposit for opening a current account?\n",
      "#Person1#: It's 10 yuan. How much money do you want to deposit?\n",
      "#Person2#: Well, here's 3, 000 yuan.\n",
      "#Person1#: Please write down your name, address and the amount of your deposit here. And please choose a passcode of six numbers and confirm it.\n",
      "#Person2#: OK, here you are.\n",
      "#Person1#: Thank you. Please confirm your information and sign your name in the blank.\n",
      "#Person2#: Done! What else should I do?\n",
      "#Person1#: That's all. Here's your bank card, and here's the certificate of deposit. Bring your bank card with you every time you come to deposit or withdraw money.\n",
      "#Person2#: OK. Thanks. Goodbye!\n",
      "#Person1#: Bye!\n",
      "    \n",
      "        SUMMERY:\n",
      "        \n",
      "    \n"
     ]
    }
   ],
   "source": [
    "\n",
    "prompt = get_n_shot_prompt(55, 1)\n",
    "print(prompt)"
   ]
  },
  {
   "cell_type": "code",
   "execution_count": 96,
   "id": "73508ea2-91e2-41db-bd77-450998e89b96",
   "metadata": {},
   "outputs": [
    {
     "name": "stdout",
     "output_type": "stream",
     "text": [
      "output : #Person1#: Bye!\n"
     ]
    }
   ],
   "source": [
    "predict(prompt)"
   ]
  },
  {
   "cell_type": "code",
   "execution_count": 98,
   "id": "feffaa61-0e99-4fb5-bc17-4fb5a0da5c11",
   "metadata": {},
   "outputs": [
    {
     "name": "stdout",
     "output_type": "stream",
     "text": [
      "\n",
      "        Summerize below conversation:\n",
      "        \n",
      "        #Person1#: Hi, Mr. Smith. I'm Doctor Hawkins. Why are you here today?\n",
      "#Person2#: I found it would be a good idea to get a check-up.\n",
      "#Person1#: Yes, well, you haven't had one for 5 years. You should have one every year.\n",
      "#Person2#: I know. I figure as long as there is nothing wrong, why go see the doctor?\n",
      "#Person1#: Well, the best way to avoid serious illnesses is to find out about them early. So try to come at least once a year for your own good.\n",
      "#Person2#: Ok.\n",
      "#Person1#: Let me see here. Your eyes and ears look fine. Take a deep breath, please. Do you smoke, Mr. Smith?\n",
      "#Person2#: Yes.\n",
      "#Person1#: Smoking is the leading cause of lung cancer and heart disease, you know. You really should quit.\n",
      "#Person2#: I've tried hundreds of times, but I just can't seem to kick the habit.\n",
      "#Person1#: Well, we have classes and some medications that might help. I'll give you more information before you leave.\n",
      "#Person2#: Ok, thanks doctor.\n",
      "    \n",
      "        SUMMERY:\n",
      "        Mr. Smith's getting a check-up, and Doctor Hawkins advises him to have one every year. Hawkins'll give some information about their classes and medications to help Mr. Smith quit smoking.\n",
      "            \n",
      "        \n",
      "        Summerize below conversation:\n",
      "        \n",
      "        #Person1#: Hi, Kate.\n",
      "#Person2#: Hi, Don. What a surprise!\n",
      "#Person1#: Yeah, I saw someone walking like you, but I wasn't sure. We haven't seen each other for how long? Almost three months? But you look quite different now.\n",
      "#Person2#: Have you noticed what has changed?\n",
      "#Person1#: Oh, you look quite slender and more vivacious. What have you been taking? Are you on a diet?\n",
      "#Person2#: Yes. I'm on a diet, but I'Ve not taken anything. I just eat less and exercise more. And it really worked in the past three months. I'Ve lost twelve pounds.\n",
      "#Person1#: Wow! That's great. I sincerely want to achieve my weight loss goals, but it's difficult for me to keep up the exercise. Also you know, old habits are hard to break.\n",
      "#Person2#: What kind of exercise do you think I do? I just go to dance everyday after work. I'm taking an amateur dance class. I dance two hours everyday.\n",
      "#Person1#: Dance? You only go dancing? That's not hard. I can do that.\n",
      "#Person2#: Sure. Join my class next week.\n",
      "    \n",
      "        SUMMERY:\n",
      "        \n",
      "    \n",
      "output : Kate and Don have been friends for three months. They haven't seen each other for a while. They have been taking a diet and exercising more.\n"
     ]
    }
   ],
   "source": [
    "\n",
    "prompt = get_n_shot_prompt(205, 1)\n",
    "print(prompt)\n",
    "\n",
    "predict(prompt)"
   ]
  },
  {
   "cell_type": "markdown",
   "id": "b88151ea-79d1-470c-8a79-a2947b3c62f2",
   "metadata": {},
   "source": [
    "## [ONE SHOT] Prediction - Temperature EXP"
   ]
  },
  {
   "cell_type": "code",
   "execution_count": 107,
   "id": "24000df7-94f8-46d0-bd8a-d5c6b398ed02",
   "metadata": {},
   "outputs": [
    {
     "data": {
      "text/plain": [
       "GenerationConfig {\n",
       "  \"max_new_tokens\": 50,\n",
       "  \"temperature\": 1.2,\n",
       "  \"transformers_version\": \"4.31.0\"\n",
       "}"
      ]
     },
     "execution_count": 107,
     "metadata": {},
     "output_type": "execute_result"
    }
   ],
   "source": [
    "model_config = GenerationConfig(max_new_tokens=50, temperature=1.2)\n",
    "model_config"
   ]
  },
  {
   "cell_type": "code",
   "execution_count": 108,
   "id": "c2a027d5-1f3b-44fb-92b2-8d6ba749ec0f",
   "metadata": {},
   "outputs": [
    {
     "name": "stdout",
     "output_type": "stream",
     "text": [
      "\n",
      "        Summerize below conversation:\n",
      "        \n",
      "        #Person1#: Hi, Mr. Smith. I'm Doctor Hawkins. Why are you here today?\n",
      "#Person2#: I found it would be a good idea to get a check-up.\n",
      "#Person1#: Yes, well, you haven't had one for 5 years. You should have one every year.\n",
      "#Person2#: I know. I figure as long as there is nothing wrong, why go see the doctor?\n",
      "#Person1#: Well, the best way to avoid serious illnesses is to find out about them early. So try to come at least once a year for your own good.\n",
      "#Person2#: Ok.\n",
      "#Person1#: Let me see here. Your eyes and ears look fine. Take a deep breath, please. Do you smoke, Mr. Smith?\n",
      "#Person2#: Yes.\n",
      "#Person1#: Smoking is the leading cause of lung cancer and heart disease, you know. You really should quit.\n",
      "#Person2#: I've tried hundreds of times, but I just can't seem to kick the habit.\n",
      "#Person1#: Well, we have classes and some medications that might help. I'll give you more information before you leave.\n",
      "#Person2#: Ok, thanks doctor.\n",
      "    \n",
      "        SUMMERY:\n",
      "        Mr. Smith's getting a check-up, and Doctor Hawkins advises him to have one every year. Hawkins'll give some information about their classes and medications to help Mr. Smith quit smoking.\n",
      "            \n",
      "        \n",
      "        Summerize below conversation:\n",
      "        \n",
      "        #Person1#: What's all the security check about, Jimmy? Does it mean the bar may be a dangerous place?\n",
      "#Person2#: No, of course not. Just in case. Nothing to worry about. Don't you also do this in China?\n",
      "#Person1#: I don't know. Maybe the same. Actually, this is my first time being in a bar.\n",
      "#Person2#: Oh, then it's my honor to be here with you. I can see now why you've been so curious about the bar stuff. You like this place?\n",
      "#Person1#: Sure. I love this place, especially the decoration. So tasteful!\n",
      "#Person2#: Yeah. Other than that, the real feature are the excellent drinks. Can I have your ticket?\n",
      "#Person1#: Here it is. But, what for? We're already in.\n",
      "#Person2#: Well, with the ticket, you can get a free drink. What would you like? Orange juice?\n",
      "#Person1#: Yes, orange juice will be fine for me. But how can you get the drink? It's so crowded there around the counter. You can barely move.\n",
      "#Person2#: I'll show you how. The bar tenders know whose turn it is. And also, I can snap my fingers to catch his attention.\n",
      "#Person1#: Cool. Thanks.\n",
      "    \n",
      "        SUMMERY:\n",
      "        \n",
      "    \n",
      "output : The bar is a good place to meet people.\n"
     ]
    }
   ],
   "source": [
    "\n",
    "prompt = get_n_shot_prompt(25, 1)\n",
    "print(prompt)\n",
    "predict(prompt, model_config)"
   ]
  },
  {
   "cell_type": "code",
   "execution_count": 109,
   "id": "f08d8217-c683-482d-9665-f4b95b63b382",
   "metadata": {},
   "outputs": [
    {
     "name": "stdout",
     "output_type": "stream",
     "text": [
      "\n",
      "        Summerize below conversation:\n",
      "        \n",
      "        #Person1#: Hi, Mr. Smith. I'm Doctor Hawkins. Why are you here today?\n",
      "#Person2#: I found it would be a good idea to get a check-up.\n",
      "#Person1#: Yes, well, you haven't had one for 5 years. You should have one every year.\n",
      "#Person2#: I know. I figure as long as there is nothing wrong, why go see the doctor?\n",
      "#Person1#: Well, the best way to avoid serious illnesses is to find out about them early. So try to come at least once a year for your own good.\n",
      "#Person2#: Ok.\n",
      "#Person1#: Let me see here. Your eyes and ears look fine. Take a deep breath, please. Do you smoke, Mr. Smith?\n",
      "#Person2#: Yes.\n",
      "#Person1#: Smoking is the leading cause of lung cancer and heart disease, you know. You really should quit.\n",
      "#Person2#: I've tried hundreds of times, but I just can't seem to kick the habit.\n",
      "#Person1#: Well, we have classes and some medications that might help. I'll give you more information before you leave.\n",
      "#Person2#: Ok, thanks doctor.\n",
      "    \n",
      "        SUMMERY:\n",
      "        Mr. Smith's getting a check-up, and Doctor Hawkins advises him to have one every year. Hawkins'll give some information about their classes and medications to help Mr. Smith quit smoking.\n",
      "            \n",
      "        \n",
      "        Summerize below conversation:\n",
      "        \n",
      "        #Person1#: We're supposed to check in at the Air China's counter 30 minutes before take-off, Joe.\n",
      "#Person2#: Yes, I know. The boarding time on the ticket says 17:05, and now it's 16:15. I guess we have plenty of time.\n",
      "#Person1#: Do we need to show our ID cards when checking in?\n",
      "#Person2#: Yes. It's essential.\n",
      "#Person1#: What about our luggage?\n",
      "#Person2#: We can check it and hand carry the small bags. And we have to open each for inspection.\n",
      "#Person1#: Are they going to frisk all the passengers?\n",
      "#Person2#: I think so. We certainly don't want a hijack to happen on the plane today.\n",
      "    \n",
      "        SUMMERY:\n",
      "        \n",
      "    \n",
      "output : #Person1#: We're supposed to check in at the Air China's counter at 16:15, but it's now 16:15.\n"
     ]
    }
   ],
   "source": [
    "\n",
    "prompt = get_n_shot_prompt(21, 1)\n",
    "print(prompt)\n",
    "predict(prompt, model_config)"
   ]
  },
  {
   "cell_type": "code",
   "execution_count": 114,
   "id": "ca7a4892-a5fc-4ae3-b83b-105561e186fc",
   "metadata": {
    "scrolled": true
   },
   "outputs": [
    {
     "name": "stdout",
     "output_type": "stream",
     "text": [
      "\n",
      "        Summerize below conversation:\n",
      "        \n",
      "        #Person1#: Hi, Mr. Smith. I'm Doctor Hawkins. Why are you here today?\n",
      "#Person2#: I found it would be a good idea to get a check-up.\n",
      "#Person1#: Yes, well, you haven't had one for 5 years. You should have one every year.\n",
      "#Person2#: I know. I figure as long as there is nothing wrong, why go see the doctor?\n",
      "#Person1#: Well, the best way to avoid serious illnesses is to find out about them early. So try to come at least once a year for your own good.\n",
      "#Person2#: Ok.\n",
      "#Person1#: Let me see here. Your eyes and ears look fine. Take a deep breath, please. Do you smoke, Mr. Smith?\n",
      "#Person2#: Yes.\n",
      "#Person1#: Smoking is the leading cause of lung cancer and heart disease, you know. You really should quit.\n",
      "#Person2#: I've tried hundreds of times, but I just can't seem to kick the habit.\n",
      "#Person1#: Well, we have classes and some medications that might help. I'll give you more information before you leave.\n",
      "#Person2#: Ok, thanks doctor.\n",
      "    \n",
      "        SUMMERY:\n",
      "        Mr. Smith's getting a check-up, and Doctor Hawkins advises him to have one every year. Hawkins'll give some information about their classes and medications to help Mr. Smith quit smoking.\n",
      "            \n",
      "        \n",
      "        Summerize below conversation:\n",
      "        \n",
      "        #Person1#: We're supposed to check in at the Air China's counter 30 minutes before take-off, Joe.\n",
      "#Person2#: Yes, I know. The boarding time on the ticket says 17:05, and now it's 16:15. I guess we have plenty of time.\n",
      "#Person1#: Do we need to show our ID cards when checking in?\n",
      "#Person2#: Yes. It's essential.\n",
      "#Person1#: What about our luggage?\n",
      "#Person2#: We can check it and hand carry the small bags. And we have to open each for inspection.\n",
      "#Person1#: Are they going to frisk all the passengers?\n",
      "#Person2#: I think so. We certainly don't want a hijack to happen on the plane today.\n",
      "    \n",
      "        SUMMERY:\n",
      "        \n",
      "    \n",
      "output : #1 asks me, Max.\n"
     ]
    }
   ],
   "source": [
    "model_config = GenerationConfig(max_new_tokens=50, temperature=0.8, do_sample=True)\n",
    "\n",
    "prompt = get_n_shot_prompt(21, 1)\n",
    "print(prompt)\n",
    "predict(prompt, model_config)"
   ]
  },
  {
   "cell_type": "markdown",
   "id": "c02bf29b-a0ed-463e-9754-669b386358a8",
   "metadata": {},
   "source": [
    "## [FEW SHOT] Prediction"
   ]
  },
  {
   "cell_type": "code",
   "execution_count": 86,
   "id": "9624d800-8f0c-45dd-b516-ac756cfcc694",
   "metadata": {},
   "outputs": [
    {
     "name": "stdout",
     "output_type": "stream",
     "text": [
      "\n",
      "        Summerize below conversation:\n",
      "        \n",
      "        #Person1#: Hi, Mr. Smith. I'm Doctor Hawkins. Why are you here today?\n",
      "#Person2#: I found it would be a good idea to get a check-up.\n",
      "#Person1#: Yes, well, you haven't had one for 5 years. You should have one every year.\n",
      "#Person2#: I know. I figure as long as there is nothing wrong, why go see the doctor?\n",
      "#Person1#: Well, the best way to avoid serious illnesses is to find out about them early. So try to come at least once a year for your own good.\n",
      "#Person2#: Ok.\n",
      "#Person1#: Let me see here. Your eyes and ears look fine. Take a deep breath, please. Do you smoke, Mr. Smith?\n",
      "#Person2#: Yes.\n",
      "#Person1#: Smoking is the leading cause of lung cancer and heart disease, you know. You really should quit.\n",
      "#Person2#: I've tried hundreds of times, but I just can't seem to kick the habit.\n",
      "#Person1#: Well, we have classes and some medications that might help. I'll give you more information before you leave.\n",
      "#Person2#: Ok, thanks doctor.\n",
      "    \n",
      "        SUMMERY:\n",
      "        Mr. Smith's getting a check-up, and Doctor Hawkins advises him to have one every year. Hawkins'll give some information about their classes and medications to help Mr. Smith quit smoking.\n",
      "            \n",
      "        \n",
      "        Summerize below conversation:\n",
      "        \n",
      "        #Person1#: Hello Mrs. Parker, how have you been?\n",
      "#Person2#: Hello Dr. Peters. Just fine thank you. Ricky and I are here for his vaccines.\n",
      "#Person1#: Very well. Let's see, according to his vaccination record, Ricky has received his Polio, Tetanus and Hepatitis B shots. He is 14 months old, so he is due for Hepatitis A, Chickenpox and Measles shots.\n",
      "#Person2#: What about Rubella and Mumps?\n",
      "#Person1#: Well, I can only give him these for now, and after a couple of weeks I can administer the rest.\n",
      "#Person2#: OK, great. Doctor, I think I also may need a Tetanus booster. Last time I got it was maybe fifteen years ago!\n",
      "#Person1#: We will check our records and I'll have the nurse administer and the booster as well. Now, please hold Ricky's arm tight, this may sting a little.\n",
      "    \n",
      "        SUMMERY:\n",
      "        Mrs Parker takes Ricky for his vaccines. Dr. Peters checks the record and then gives Ricky a vaccine.\n",
      "            \n",
      "        \n",
      "        Summerize below conversation:\n",
      "        \n",
      "        #Person1#: Excuse me, did you see a set of keys?\n",
      "#Person2#: What kind of keys?\n",
      "#Person1#: Five keys and a small foot ornament.\n",
      "#Person2#: What a shame! I didn't see them.\n",
      "#Person1#: Well, can you help me look for it? That's my first time here.\n",
      "#Person2#: Sure. It's my pleasure. I'd like to help you look for the missing keys.\n",
      "#Person1#: It's very kind of you.\n",
      "#Person2#: It's not a big deal.Hey, I found them.\n",
      "#Person1#: Oh, thank God! I don't know how to thank you, guys.\n",
      "#Person2#: You're welcome.\n",
      "    \n",
      "        SUMMERY:\n",
      "        #Person1#'s looking for a set of keys and asks for #Person2#'s help to find them.\n",
      "            \n",
      "        \n",
      "        Summerize below conversation:\n",
      "        \n",
      "        #Person1#: It's Sunday today.\n",
      "#Person2#: Yes, I know.\n",
      "#Person1#: I think we should have a house cleaning today. What's your opinion?\n",
      "#Person2#: Oh, no. We just did it last week.\n",
      "#Person1#: Come on. What do you want to do? Washing clothes or cleaning the house?\n",
      "#Person2#: I'd rather wash the clothes.\n",
      "#Person1#: Okay. Here is the laundry.\n",
      "#Person2#: Oh, My God! So much!\n",
      "#Person1#: Don't worry. I'll help you with it later.\n",
      "    \n",
      "        SUMMERY:\n",
      "        \n",
      "    \n"
     ]
    }
   ],
   "source": [
    "\n",
    "prompt = get_n_shot_prompt(29, 3)\n",
    "print(prompt)"
   ]
  },
  {
   "cell_type": "code",
   "execution_count": 87,
   "id": "910d765c-5998-440b-891f-b29b28ad7ea8",
   "metadata": {},
   "outputs": [
    {
     "name": "stdout",
     "output_type": "stream",
     "text": [
      "output : #Person1# will help Person2 with the laundry.\n"
     ]
    }
   ],
   "source": [
    "predict(prompt)"
   ]
  },
  {
   "cell_type": "code",
   "execution_count": 90,
   "id": "f706c98f-41cd-4357-ba6b-00ea42ae4024",
   "metadata": {},
   "outputs": [
    {
     "name": "stdout",
     "output_type": "stream",
     "text": [
      "\n",
      "        Summerize below conversation:\n",
      "        \n",
      "        #Person1#: Hi, Mr. Smith. I'm Doctor Hawkins. Why are you here today?\n",
      "#Person2#: I found it would be a good idea to get a check-up.\n",
      "#Person1#: Yes, well, you haven't had one for 5 years. You should have one every year.\n",
      "#Person2#: I know. I figure as long as there is nothing wrong, why go see the doctor?\n",
      "#Person1#: Well, the best way to avoid serious illnesses is to find out about them early. So try to come at least once a year for your own good.\n",
      "#Person2#: Ok.\n",
      "#Person1#: Let me see here. Your eyes and ears look fine. Take a deep breath, please. Do you smoke, Mr. Smith?\n",
      "#Person2#: Yes.\n",
      "#Person1#: Smoking is the leading cause of lung cancer and heart disease, you know. You really should quit.\n",
      "#Person2#: I've tried hundreds of times, but I just can't seem to kick the habit.\n",
      "#Person1#: Well, we have classes and some medications that might help. I'll give you more information before you leave.\n",
      "#Person2#: Ok, thanks doctor.\n",
      "    \n",
      "        SUMMERY:\n",
      "        Mr. Smith's getting a check-up, and Doctor Hawkins advises him to have one every year. Hawkins'll give some information about their classes and medications to help Mr. Smith quit smoking.\n",
      "            \n",
      "        \n",
      "        Summerize below conversation:\n",
      "        \n",
      "        #Person1#: Hello Mrs. Parker, how have you been?\n",
      "#Person2#: Hello Dr. Peters. Just fine thank you. Ricky and I are here for his vaccines.\n",
      "#Person1#: Very well. Let's see, according to his vaccination record, Ricky has received his Polio, Tetanus and Hepatitis B shots. He is 14 months old, so he is due for Hepatitis A, Chickenpox and Measles shots.\n",
      "#Person2#: What about Rubella and Mumps?\n",
      "#Person1#: Well, I can only give him these for now, and after a couple of weeks I can administer the rest.\n",
      "#Person2#: OK, great. Doctor, I think I also may need a Tetanus booster. Last time I got it was maybe fifteen years ago!\n",
      "#Person1#: We will check our records and I'll have the nurse administer and the booster as well. Now, please hold Ricky's arm tight, this may sting a little.\n",
      "    \n",
      "        SUMMERY:\n",
      "        Mrs Parker takes Ricky for his vaccines. Dr. Peters checks the record and then gives Ricky a vaccine.\n",
      "            \n",
      "        \n",
      "        Summerize below conversation:\n",
      "        \n",
      "        #Person1#: Excuse me, did you see a set of keys?\n",
      "#Person2#: What kind of keys?\n",
      "#Person1#: Five keys and a small foot ornament.\n",
      "#Person2#: What a shame! I didn't see them.\n",
      "#Person1#: Well, can you help me look for it? That's my first time here.\n",
      "#Person2#: Sure. It's my pleasure. I'd like to help you look for the missing keys.\n",
      "#Person1#: It's very kind of you.\n",
      "#Person2#: It's not a big deal.Hey, I found them.\n",
      "#Person1#: Oh, thank God! I don't know how to thank you, guys.\n",
      "#Person2#: You're welcome.\n",
      "    \n",
      "        SUMMERY:\n",
      "        #Person1#'s looking for a set of keys and asks for #Person2#'s help to find them.\n",
      "            \n",
      "        \n",
      "        Summerize below conversation:\n",
      "        \n",
      "        #Person1#: Hello, Jane. This is Peter speaking.\n",
      "#Person2#: Hi, how are you?\n",
      "#Person1#: Fine. And I've got some great news for you.\n",
      "#Person2#: Really? What's it about?\n",
      "#Person1#: I remember you are interested in watching golf games. The Houston Open will be running from May 26 to May 30. I'm sure you will be glad to watch the game.\n",
      "#Person2#: Oh, that's great. But just a moment, let me check. Ah... It is a pity that I can't make it. I will be on business in China from May 25 to June 2.\n",
      "#Person1#: Well, I'm sorry you have to be away on business then. Let me see. Another game, the US Open will be running from July 15 to July 18. How about that?\n",
      "#Person2#: That's great. I will be on my holiday then. It would be wonderful if we could watch the game together.\n",
      "    \n",
      "        SUMMERY:\n",
      "        \n",
      "    \n"
     ]
    }
   ],
   "source": [
    "\n",
    "prompt = get_n_shot_prompt(856, 3)\n",
    "print(prompt)"
   ]
  },
  {
   "cell_type": "code",
   "execution_count": 91,
   "id": "19c842b6-bf2d-49dc-bb99-86d1faaf21cf",
   "metadata": {},
   "outputs": [
    {
     "name": "stdout",
     "output_type": "stream",
     "text": [
      "output : #Person1# has a game on May 26 and May 30.\n"
     ]
    }
   ],
   "source": [
    "predict(prompt)"
   ]
  },
  {
   "cell_type": "code",
   "execution_count": null,
   "id": "9b8ce438-0256-475d-b339-1e46b9a20db6",
   "metadata": {},
   "outputs": [],
   "source": []
  }
 ],
 "metadata": {
  "kernelspec": {
   "display_name": "Python 3 (ipykernel)",
   "language": "python",
   "name": "python3"
  },
  "language_info": {
   "codemirror_mode": {
    "name": "ipython",
    "version": 3
   },
   "file_extension": ".py",
   "mimetype": "text/x-python",
   "name": "python",
   "nbconvert_exporter": "python",
   "pygments_lexer": "ipython3",
   "version": "3.8.17"
  },
  "widgets": {
   "application/vnd.jupyter.widget-state+json": {
    "state": {
     "06fa088d162f42df9d2ec0a3f2744313": {
      "model_module": "@jupyter-widgets/controls",
      "model_module_version": "2.0.0",
      "model_name": "HTMLModel",
      "state": {
       "layout": "IPY_MODEL_c428fbf82ec941f2a48ee0c8bd2a96b8",
       "style": "IPY_MODEL_799fe155b9cb44418fbbf47608fde55d",
       "value": "Downloading spiece.model: 100%"
      }
     },
     "096c3c4ce27c4057ba0457cec07cc0d0": {
      "model_module": "@jupyter-widgets/controls",
      "model_module_version": "2.0.0",
      "model_name": "HTMLModel",
      "state": {
       "layout": "IPY_MODEL_401f61f5363c4e6a9f718f80c991967c",
       "style": "IPY_MODEL_227b02d0fdb243babbbed685f8dc756d",
       "value": " 11.3M/11.3M [00:03&lt;00:00, 4.01MB/s]"
      }
     },
     "0b80c057e8144c1182eee4e03126f0a9": {
      "model_module": "@jupyter-widgets/base",
      "model_module_version": "2.0.0",
      "model_name": "LayoutModel",
      "state": {}
     },
     "0bf2f2282ccc4969ab68f58202d5e0e5": {
      "model_module": "@jupyter-widgets/controls",
      "model_module_version": "2.0.0",
      "model_name": "HTMLStyleModel",
      "state": {
       "description_width": "",
       "font_size": null,
       "text_color": null
      }
     },
     "0c7cc1440dd44042b11dd2bd7b50a754": {
      "model_module": "@jupyter-widgets/base",
      "model_module_version": "2.0.0",
      "model_name": "LayoutModel",
      "state": {}
     },
     "0ebb643cc06e4735bf42715d3d4dce08": {
      "model_module": "@jupyter-widgets/controls",
      "model_module_version": "2.0.0",
      "model_name": "ProgressStyleModel",
      "state": {
       "description_width": ""
      }
     },
     "1058ff9c66664761b8948b75872b3055": {
      "model_module": "@jupyter-widgets/base",
      "model_module_version": "2.0.0",
      "model_name": "LayoutModel",
      "state": {}
     },
     "125e10ab2e184b89bebfb432e160f417": {
      "model_module": "@jupyter-widgets/controls",
      "model_module_version": "2.0.0",
      "model_name": "HBoxModel",
      "state": {
       "children": [
        "IPY_MODEL_32cd8c2f05744aee92907a37552988fc",
        "IPY_MODEL_e60a5415e1804bdbb92e5f4f5cacc417",
        "IPY_MODEL_fdeca6bd076c45fc8dfedefdc0a9eb8d"
       ],
       "layout": "IPY_MODEL_4a355a633c004ed9a45cf742754e7955"
      }
     },
     "148d719828b7443a97972e91a2c06096": {
      "model_module": "@jupyter-widgets/base",
      "model_module_version": "2.0.0",
      "model_name": "LayoutModel",
      "state": {}
     },
     "150434a0d9914b1aa1017bfcb37aa59c": {
      "model_module": "@jupyter-widgets/controls",
      "model_module_version": "2.0.0",
      "model_name": "HBoxModel",
      "state": {
       "children": [
        "IPY_MODEL_ce84638f5bb346e0a4db23caeee4acf7",
        "IPY_MODEL_d06355984c654f648468112776249fd9",
        "IPY_MODEL_15086801c06c441ca61fb28e27d65bb5"
       ],
       "layout": "IPY_MODEL_5b4e9c6cac344cf4a0f6dd0267e147fe"
      }
     },
     "15086801c06c441ca61fb28e27d65bb5": {
      "model_module": "@jupyter-widgets/controls",
      "model_module_version": "2.0.0",
      "model_name": "HTMLModel",
      "state": {
       "layout": "IPY_MODEL_1058ff9c66664761b8948b75872b3055",
       "style": "IPY_MODEL_373f8b30e5744e47996203455a97c774",
       "value": " 3/3 [00:04&lt;00:00,  1.21s/it]"
      }
     },
     "159682c8fe634cb988dd7acd4e828fa3": {
      "model_module": "@jupyter-widgets/controls",
      "model_module_version": "2.0.0",
      "model_name": "HTMLStyleModel",
      "state": {
       "description_width": "",
       "font_size": null,
       "text_color": null
      }
     },
     "15ca5ed573d34faf8add5c940e7994c6": {
      "model_module": "@jupyter-widgets/base",
      "model_module_version": "2.0.0",
      "model_name": "LayoutModel",
      "state": {}
     },
     "19bf3099ca4b4d9c946b4497604e358c": {
      "model_module": "@jupyter-widgets/base",
      "model_module_version": "2.0.0",
      "model_name": "LayoutModel",
      "state": {}
     },
     "1a9d7c346a99478bbb5ac29977cd930c": {
      "model_module": "@jupyter-widgets/base",
      "model_module_version": "2.0.0",
      "model_name": "LayoutModel",
      "state": {}
     },
     "1b12ae2ff2c94e3ea2a556bcb91064d2": {
      "model_module": "@jupyter-widgets/controls",
      "model_module_version": "2.0.0",
      "model_name": "HTMLModel",
      "state": {
       "layout": "IPY_MODEL_e37248431adf4fc6a5b49d3d79b8e27f",
       "style": "IPY_MODEL_74d62f445f324e7d9a96689f8543a9a4",
       "value": "Downloading data: 100%"
      }
     },
     "1b1fc22a2d894849b9035b41014527e4": {
      "model_module": "@jupyter-widgets/controls",
      "model_module_version": "2.0.0",
      "model_name": "HBoxModel",
      "state": {
       "children": [
        "IPY_MODEL_bc323530906b4d29a38ef52bd0931513",
        "IPY_MODEL_c473d495e4754f39ba416431bb50396e",
        "IPY_MODEL_a465123700604be88fa14ac897bf381b"
       ],
       "layout": "IPY_MODEL_cf50da93ee324297bf4743d44a0e04e7"
      }
     },
     "1c91e5298f864f5abb867d9cbe70e13b": {
      "model_module": "@jupyter-widgets/controls",
      "model_module_version": "2.0.0",
      "model_name": "HTMLStyleModel",
      "state": {
       "description_width": "",
       "font_size": null,
       "text_color": null
      }
     },
     "1d91d0a5da6b419d878922fc55f2963a": {
      "model_module": "@jupyter-widgets/controls",
      "model_module_version": "2.0.0",
      "model_name": "ProgressStyleModel",
      "state": {
       "description_width": ""
      }
     },
     "1e23729298ce4b82811f048e1b6e36be": {
      "model_module": "@jupyter-widgets/controls",
      "model_module_version": "2.0.0",
      "model_name": "HBoxModel",
      "state": {
       "children": [
        "IPY_MODEL_4e1b8fcd56ac46d0934b68e871d3a8d3",
        "IPY_MODEL_8a2520cd0dcb4928a0d7cced28d0767f",
        "IPY_MODEL_7bcdbcbc4c5f4f0689a7ee7f834252a8"
       ],
       "layout": "IPY_MODEL_c4d5a1e2b4ef4bef9e861722d0c6789c"
      }
     },
     "1f0ed8fbdbeb4eb58d1f2c7019d542d2": {
      "model_module": "@jupyter-widgets/base",
      "model_module_version": "2.0.0",
      "model_name": "LayoutModel",
      "state": {}
     },
     "1f4f805a9f2b407f8a925d6fa4b7e204": {
      "model_module": "@jupyter-widgets/base",
      "model_module_version": "2.0.0",
      "model_name": "LayoutModel",
      "state": {}
     },
     "204ccfb213e847a18b2d9f4d59cf197e": {
      "model_module": "@jupyter-widgets/base",
      "model_module_version": "2.0.0",
      "model_name": "LayoutModel",
      "state": {}
     },
     "20ccfc627d034a25833275275ea8b626": {
      "model_module": "@jupyter-widgets/controls",
      "model_module_version": "2.0.0",
      "model_name": "ProgressStyleModel",
      "state": {
       "description_width": ""
      }
     },
     "218b29d7faa24d83ac4dd595d3e0fd8e": {
      "model_module": "@jupyter-widgets/base",
      "model_module_version": "2.0.0",
      "model_name": "LayoutModel",
      "state": {}
     },
     "227b02d0fdb243babbbed685f8dc756d": {
      "model_module": "@jupyter-widgets/controls",
      "model_module_version": "2.0.0",
      "model_name": "HTMLStyleModel",
      "state": {
       "description_width": "",
       "font_size": null,
       "text_color": null
      }
     },
     "246cf6bd724e46d5976d41360649680d": {
      "model_module": "@jupyter-widgets/controls",
      "model_module_version": "2.0.0",
      "model_name": "HTMLStyleModel",
      "state": {
       "description_width": "",
       "font_size": null,
       "text_color": null
      }
     },
     "2518423b79b54912b55694d6a900840b": {
      "model_module": "@jupyter-widgets/controls",
      "model_module_version": "2.0.0",
      "model_name": "HTMLStyleModel",
      "state": {
       "description_width": "",
       "font_size": null,
       "text_color": null
      }
     },
     "26be328c87414a16ab8ab2d7256e67c5": {
      "model_module": "@jupyter-widgets/controls",
      "model_module_version": "2.0.0",
      "model_name": "ProgressStyleModel",
      "state": {
       "description_width": ""
      }
     },
     "26ffa3db853844ec86c3acaabac603ce": {
      "model_module": "@jupyter-widgets/controls",
      "model_module_version": "2.0.0",
      "model_name": "HTMLModel",
      "state": {
       "layout": "IPY_MODEL_8004fad32ac5469591a8fc65d20c1e07",
       "style": "IPY_MODEL_de21f2cf42d946bbb4ec8413f7fe0675",
       "value": "Downloading data: 100%"
      }
     },
     "27133e4fe50148ad87a48b12ad612308": {
      "model_module": "@jupyter-widgets/controls",
      "model_module_version": "2.0.0",
      "model_name": "HTMLStyleModel",
      "state": {
       "description_width": "",
       "font_size": null,
       "text_color": null
      }
     },
     "296b1042d8b040ddb8960bb1c1bb528d": {
      "model_module": "@jupyter-widgets/controls",
      "model_module_version": "2.0.0",
      "model_name": "HTMLStyleModel",
      "state": {
       "description_width": "",
       "font_size": null,
       "text_color": null
      }
     },
     "2c6cc152b87b45ecafa5db43a039d433": {
      "model_module": "@jupyter-widgets/base",
      "model_module_version": "2.0.0",
      "model_name": "LayoutModel",
      "state": {}
     },
     "2ef1b0c49ef346a48372c8a3d4cfc007": {
      "model_module": "@jupyter-widgets/controls",
      "model_module_version": "2.0.0",
      "model_name": "ProgressStyleModel",
      "state": {
       "description_width": ""
      }
     },
     "3106b35586c249aa96ffe4219a46843b": {
      "model_module": "@jupyter-widgets/base",
      "model_module_version": "2.0.0",
      "model_name": "LayoutModel",
      "state": {}
     },
     "32cd8c2f05744aee92907a37552988fc": {
      "model_module": "@jupyter-widgets/controls",
      "model_module_version": "2.0.0",
      "model_name": "HTMLModel",
      "state": {
       "layout": "IPY_MODEL_3106b35586c249aa96ffe4219a46843b",
       "style": "IPY_MODEL_5e8e523ca915434ea0eaed4fe3cea233",
       "value": "Downloading data: 100%"
      }
     },
     "32fe75b133cf4c75aa3dda5b371bb0bd": {
      "model_module": "@jupyter-widgets/base",
      "model_module_version": "2.0.0",
      "model_name": "LayoutModel",
      "state": {}
     },
     "33730cb1246d4a5895b13894c2035ab2": {
      "model_module": "@jupyter-widgets/base",
      "model_module_version": "2.0.0",
      "model_name": "LayoutModel",
      "state": {}
     },
     "337e4ea6ec5645bb8b871680fc7a3ce4": {
      "model_module": "@jupyter-widgets/controls",
      "model_module_version": "2.0.0",
      "model_name": "FloatProgressModel",
      "state": {
       "bar_style": "success",
       "layout": "IPY_MODEL_96a0040ab4b24dc4ae54d1ab808c2530",
       "max": 441935,
       "style": "IPY_MODEL_abb077bf3aff43018880de02ccf6f3e2",
       "value": 441935
      }
     },
     "3556e3fda28e4c20a9626042498f095f": {
      "model_module": "@jupyter-widgets/controls",
      "model_module_version": "2.0.0",
      "model_name": "ProgressStyleModel",
      "state": {
       "description_width": ""
      }
     },
     "373f8b30e5744e47996203455a97c774": {
      "model_module": "@jupyter-widgets/controls",
      "model_module_version": "2.0.0",
      "model_name": "HTMLStyleModel",
      "state": {
       "description_width": "",
       "font_size": null,
       "text_color": null
      }
     },
     "37c3fa19b6b44ed0977fb784df58b8ed": {
      "model_module": "@jupyter-widgets/controls",
      "model_module_version": "2.0.0",
      "model_name": "ProgressStyleModel",
      "state": {
       "description_width": ""
      }
     },
     "3a9ed5edab7549d0949361ae43678664": {
      "model_module": "@jupyter-widgets/controls",
      "model_module_version": "2.0.0",
      "model_name": "ProgressStyleModel",
      "state": {
       "description_width": ""
      }
     },
     "3c44b650f3f447b79dc6fcd788253142": {
      "model_module": "@jupyter-widgets/controls",
      "model_module_version": "2.0.0",
      "model_name": "HTMLStyleModel",
      "state": {
       "description_width": "",
       "font_size": null,
       "text_color": null
      }
     },
     "3c7c4f0e53164f73848820d99dfd2176": {
      "model_module": "@jupyter-widgets/controls",
      "model_module_version": "2.0.0",
      "model_name": "HTMLStyleModel",
      "state": {
       "description_width": "",
       "font_size": null,
       "text_color": null
      }
     },
     "401f61f5363c4e6a9f718f80c991967c": {
      "model_module": "@jupyter-widgets/base",
      "model_module_version": "2.0.0",
      "model_name": "LayoutModel",
      "state": {}
     },
     "439e458b158441dfae448164b32c67b2": {
      "model_module": "@jupyter-widgets/base",
      "model_module_version": "2.0.0",
      "model_name": "LayoutModel",
      "state": {}
     },
     "43dff6eb7a474201a258c7c29add5551": {
      "model_module": "@jupyter-widgets/base",
      "model_module_version": "2.0.0",
      "model_name": "LayoutModel",
      "state": {}
     },
     "46388c1081794889901c566d21f2734c": {
      "model_module": "@jupyter-widgets/controls",
      "model_module_version": "2.0.0",
      "model_name": "HBoxModel",
      "state": {
       "children": [
        "IPY_MODEL_e95c7fb270bc470db1a17f894a688945",
        "IPY_MODEL_fa892869efcf4ab9bd4542b228d69786",
        "IPY_MODEL_640e2bd808dd465aa6bec1318c8d5885"
       ],
       "layout": "IPY_MODEL_6ab7227471384f5bb0262097d6b1f7dd"
      }
     },
     "49ec2b9090b8491a898670f05bec9a62": {
      "model_module": "@jupyter-widgets/base",
      "model_module_version": "2.0.0",
      "model_name": "LayoutModel",
      "state": {}
     },
     "4a355a633c004ed9a45cf742754e7955": {
      "model_module": "@jupyter-widgets/base",
      "model_module_version": "2.0.0",
      "model_name": "LayoutModel",
      "state": {}
     },
     "4d5bd2be3d9c4e48ad52afdfddf3ff46": {
      "model_module": "@jupyter-widgets/base",
      "model_module_version": "2.0.0",
      "model_name": "LayoutModel",
      "state": {}
     },
     "4e1b8fcd56ac46d0934b68e871d3a8d3": {
      "model_module": "@jupyter-widgets/controls",
      "model_module_version": "2.0.0",
      "model_name": "HTMLModel",
      "state": {
       "layout": "IPY_MODEL_ef9c1320ad2f4e43bd3cd93ba81adcca",
       "style": "IPY_MODEL_56236b7c28eb45bf8c7950ad1bdbb2fb",
       "value": "Computing checksums: 100%"
      }
     },
     "50312c13d94f4305b6861575840e6928": {
      "model_module": "@jupyter-widgets/base",
      "model_module_version": "2.0.0",
      "model_name": "LayoutModel",
      "state": {}
     },
     "510bda124a7a48b390df50e2dfb25c46": {
      "model_module": "@jupyter-widgets/controls",
      "model_module_version": "2.0.0",
      "model_name": "HTMLStyleModel",
      "state": {
       "description_width": "",
       "font_size": null,
       "text_color": null
      }
     },
     "5201c6dfe14e48c796c51323aed882f4": {
      "model_module": "@jupyter-widgets/base",
      "model_module_version": "2.0.0",
      "model_name": "LayoutModel",
      "state": {}
     },
     "5205887e8aef49a8a9fd2019aab2db56": {
      "model_module": "@jupyter-widgets/base",
      "model_module_version": "2.0.0",
      "model_name": "LayoutModel",
      "state": {}
     },
     "560c9acd02ff4e62adf38db4d3fabd98": {
      "model_module": "@jupyter-widgets/controls",
      "model_module_version": "2.0.0",
      "model_name": "HTMLStyleModel",
      "state": {
       "description_width": "",
       "font_size": null,
       "text_color": null
      }
     },
     "56236b7c28eb45bf8c7950ad1bdbb2fb": {
      "model_module": "@jupyter-widgets/controls",
      "model_module_version": "2.0.0",
      "model_name": "HTMLStyleModel",
      "state": {
       "description_width": "",
       "font_size": null,
       "text_color": null
      }
     },
     "57fce1da6f2c40ba9f441617f07a2dff": {
      "model_module": "@jupyter-widgets/controls",
      "model_module_version": "2.0.0",
      "model_name": "HBoxModel",
      "state": {
       "children": [
        "IPY_MODEL_1b12ae2ff2c94e3ea2a556bcb91064d2",
        "IPY_MODEL_337e4ea6ec5645bb8b871680fc7a3ce4",
        "IPY_MODEL_f010502228224fb592c8f16766d18335"
       ],
       "layout": "IPY_MODEL_1f0ed8fbdbeb4eb58d1f2c7019d542d2"
      }
     },
     "59c06be603614bf2b160fe3095c30034": {
      "model_module": "@jupyter-widgets/controls",
      "model_module_version": "2.0.0",
      "model_name": "HTMLStyleModel",
      "state": {
       "description_width": "",
       "font_size": null,
       "text_color": null
      }
     },
     "59f212280246425a901a6940c98dccd8": {
      "model_module": "@jupyter-widgets/controls",
      "model_module_version": "2.0.0",
      "model_name": "FloatProgressModel",
      "state": {
       "bar_style": "success",
       "layout": "IPY_MODEL_67357664182b45d6aeade334d5c488ca",
       "max": 791656,
       "style": "IPY_MODEL_bbb2191614554ab2a50db5c48afeb927",
       "value": 791656
      }
     },
     "5b4e9c6cac344cf4a0f6dd0267e147fe": {
      "model_module": "@jupyter-widgets/base",
      "model_module_version": "2.0.0",
      "model_name": "LayoutModel",
      "state": {}
     },
     "5e8e523ca915434ea0eaed4fe3cea233": {
      "model_module": "@jupyter-widgets/controls",
      "model_module_version": "2.0.0",
      "model_name": "HTMLStyleModel",
      "state": {
       "description_width": "",
       "font_size": null,
       "text_color": null
      }
     },
     "5e9934b0ecd148669342e4becea3643a": {
      "model_module": "@jupyter-widgets/controls",
      "model_module_version": "2.0.0",
      "model_name": "HBoxModel",
      "state": {
       "children": [
        "IPY_MODEL_75f4b4e3b2284a78a23030a8fc76d9f3",
        "IPY_MODEL_e1f7d7390fcc4f3d99c3006aafb81035",
        "IPY_MODEL_9b61403d703a4684be4aca43aaea81f8"
       ],
       "layout": "IPY_MODEL_0b80c057e8144c1182eee4e03126f0a9"
      }
     },
     "5f3b5679ceb643e18b925440a8a2f7d5": {
      "model_module": "@jupyter-widgets/controls",
      "model_module_version": "2.0.0",
      "model_name": "ProgressStyleModel",
      "state": {
       "description_width": ""
      }
     },
     "608e22ffa5444c51b0e43442ec2eb52d": {
      "model_module": "@jupyter-widgets/controls",
      "model_module_version": "2.0.0",
      "model_name": "HTMLStyleModel",
      "state": {
       "description_width": "",
       "font_size": null,
       "text_color": null
      }
     },
     "6259cb210dc34c41823a28a158a5d2fc": {
      "model_module": "@jupyter-widgets/controls",
      "model_module_version": "2.0.0",
      "model_name": "HTMLModel",
      "state": {
       "layout": "IPY_MODEL_5205887e8aef49a8a9fd2019aab2db56",
       "style": "IPY_MODEL_ac26b4e688e94f5a8eb705d4685c7d77",
       "value": " 2.42M/2.42M [00:01&lt;00:00, 1.30MB/s]"
      }
     },
     "640e2bd808dd465aa6bec1318c8d5885": {
      "model_module": "@jupyter-widgets/controls",
      "model_module_version": "2.0.0",
      "model_name": "HTMLModel",
      "state": {
       "layout": "IPY_MODEL_cf1a4ab334554eec9e4e77885819425f",
       "style": "IPY_MODEL_e7b6b615853749279e81616747635971",
       "value": " 12460/0 [00:00&lt;00:00, 83809.14 examples/s]"
      }
     },
     "64f836f8dfe34ef49045fa3db0acc724": {
      "model_module": "@jupyter-widgets/controls",
      "model_module_version": "2.0.0",
      "model_name": "HTMLStyleModel",
      "state": {
       "description_width": "",
       "font_size": null,
       "text_color": null
      }
     },
     "67357664182b45d6aeade334d5c488ca": {
      "model_module": "@jupyter-widgets/base",
      "model_module_version": "2.0.0",
      "model_name": "LayoutModel",
      "state": {}
     },
     "69ab01d5d71547b5b3d67217692d9e28": {
      "model_module": "@jupyter-widgets/controls",
      "model_module_version": "2.0.0",
      "model_name": "HTMLModel",
      "state": {
       "layout": "IPY_MODEL_f7f482e7edeb458191e8d360bcf39b4f",
       "style": "IPY_MODEL_93b3808a17c64e88956af7a9843b9fd0",
       "value": "Downloading (…)okenizer_config.json: 100%"
      }
     },
     "6a30f19ca90248f7a6ad269d1d730f04": {
      "model_module": "@jupyter-widgets/controls",
      "model_module_version": "2.0.0",
      "model_name": "HTMLStyleModel",
      "state": {
       "description_width": "",
       "font_size": null,
       "text_color": null
      }
     },
     "6ab7227471384f5bb0262097d6b1f7dd": {
      "model_module": "@jupyter-widgets/base",
      "model_module_version": "2.0.0",
      "model_name": "LayoutModel",
      "state": {}
     },
     "6ba9789fb39046458d565a72fca4d337": {
      "model_module": "@jupyter-widgets/base",
      "model_module_version": "2.0.0",
      "model_name": "LayoutModel",
      "state": {}
     },
     "6c2828869de7456194b8a6e747007bf3": {
      "model_module": "@jupyter-widgets/controls",
      "model_module_version": "2.0.0",
      "model_name": "HTMLModel",
      "state": {
       "layout": "IPY_MODEL_a13bbcace26342cc971db9666961ed61",
       "style": "IPY_MODEL_97f0f8c520964e4e8fb1e4d9fb1b4bd6",
       "value": "Downloading (…)cial_tokens_map.json: 100%"
      }
     },
     "6e35a74def12465b82d33555ad679c56": {
      "model_module": "@jupyter-widgets/controls",
      "model_module_version": "2.0.0",
      "model_name": "FloatProgressModel",
      "state": {
       "bar_style": "success",
       "layout": "IPY_MODEL_7057ecc903a7476cb044663733317196",
       "max": 2424064,
       "style": "IPY_MODEL_26be328c87414a16ab8ab2d7256e67c5",
       "value": 2424064
      }
     },
     "6f129f2113d64570baefcef284ea6013": {
      "model_module": "@jupyter-widgets/controls",
      "model_module_version": "2.0.0",
      "model_name": "HBoxModel",
      "state": {
       "children": [
        "IPY_MODEL_e58fa50ebcd2445b9abcbee8a38fb784",
        "IPY_MODEL_8af81eca4c8e44f0885fa979d9bdada5",
        "IPY_MODEL_dbd199ab17fb499dba841d8fef18a39d"
       ],
       "layout": "IPY_MODEL_c3f7123da9514ce9880cc419d8fef095"
      }
     },
     "6f5125c91a7c49c3a5c78fc316e99442": {
      "model_module": "@jupyter-widgets/controls",
      "model_module_version": "2.0.0",
      "model_name": "HTMLStyleModel",
      "state": {
       "description_width": "",
       "font_size": null,
       "text_color": null
      }
     },
     "7057ecc903a7476cb044663733317196": {
      "model_module": "@jupyter-widgets/base",
      "model_module_version": "2.0.0",
      "model_name": "LayoutModel",
      "state": {}
     },
     "70b4bb345835414682e68fde16370c84": {
      "model_module": "@jupyter-widgets/controls",
      "model_module_version": "2.0.0",
      "model_name": "ProgressStyleModel",
      "state": {
       "description_width": ""
      }
     },
     "72023535db2149f8ad0da2bf9ddfd4b8": {
      "model_module": "@jupyter-widgets/controls",
      "model_module_version": "2.0.0",
      "model_name": "ProgressStyleModel",
      "state": {
       "description_width": ""
      }
     },
     "741be77ce64f4e2baeae80f7cf44a122": {
      "model_module": "@jupyter-widgets/controls",
      "model_module_version": "2.0.0",
      "model_name": "FloatProgressModel",
      "state": {
       "bar_style": "success",
       "layout": "IPY_MODEL_ebcb915571904c58ae2560e23e47d895",
       "max": 1404,
       "style": "IPY_MODEL_1d91d0a5da6b419d878922fc55f2963a",
       "value": 1404
      }
     },
     "74d62f445f324e7d9a96689f8543a9a4": {
      "model_module": "@jupyter-widgets/controls",
      "model_module_version": "2.0.0",
      "model_name": "HTMLStyleModel",
      "state": {
       "description_width": "",
       "font_size": null,
       "text_color": null
      }
     },
     "74ef065c01f040289e7194e0dbb3bb6e": {
      "model_module": "@jupyter-widgets/controls",
      "model_module_version": "2.0.0",
      "model_name": "HTMLModel",
      "state": {
       "layout": "IPY_MODEL_5201c6dfe14e48c796c51323aed882f4",
       "style": "IPY_MODEL_7c5e66b8f8dc45f2b4df7f2c5f43fa10",
       "value": "Downloading (…)/main/tokenizer.json: 100%"
      }
     },
     "75f4b4e3b2284a78a23030a8fc76d9f3": {
      "model_module": "@jupyter-widgets/controls",
      "model_module_version": "2.0.0",
      "model_name": "HTMLModel",
      "state": {
       "layout": "IPY_MODEL_8715726ce461458ca13dc3cfd1bdc5c1",
       "style": "IPY_MODEL_2518423b79b54912b55694d6a900840b",
       "value": "Extracting data files: 100%"
      }
     },
     "764f258aff184ab5a43dd63b3cc6e3bb": {
      "model_module": "@jupyter-widgets/controls",
      "model_module_version": "2.0.0",
      "model_name": "FloatProgressModel",
      "state": {
       "bar_style": "success",
       "layout": "IPY_MODEL_50312c13d94f4305b6861575840e6928",
       "max": 4654,
       "style": "IPY_MODEL_3556e3fda28e4c20a9626042498f095f",
       "value": 4654
      }
     },
     "781618960d3646d08b8e192ece04cd46": {
      "model_module": "@jupyter-widgets/controls",
      "model_module_version": "2.0.0",
      "model_name": "HTMLModel",
      "state": {
       "layout": "IPY_MODEL_148d719828b7443a97972e91a2c06096",
       "style": "IPY_MODEL_296b1042d8b040ddb8960bb1c1bb528d",
       "value": "Downloading model.safetensors: 100%"
      }
     },
     "799fe155b9cb44418fbbf47608fde55d": {
      "model_module": "@jupyter-widgets/controls",
      "model_module_version": "2.0.0",
      "model_name": "HTMLStyleModel",
      "state": {
       "description_width": "",
       "font_size": null,
       "text_color": null
      }
     },
     "7bcdbcbc4c5f4f0689a7ee7f834252a8": {
      "model_module": "@jupyter-widgets/controls",
      "model_module_version": "2.0.0",
      "model_name": "HTMLModel",
      "state": {
       "layout": "IPY_MODEL_c0a526bd40c04868be7aa20c5fea3eb0",
       "style": "IPY_MODEL_0bf2f2282ccc4969ab68f58202d5e0e5",
       "value": " 3/3 [00:00&lt;00:00, 170.65it/s]"
      }
     },
     "7c5e66b8f8dc45f2b4df7f2c5f43fa10": {
      "model_module": "@jupyter-widgets/controls",
      "model_module_version": "2.0.0",
      "model_name": "HTMLStyleModel",
      "state": {
       "description_width": "",
       "font_size": null,
       "text_color": null
      }
     },
     "8004fad32ac5469591a8fc65d20c1e07": {
      "model_module": "@jupyter-widgets/base",
      "model_module_version": "2.0.0",
      "model_name": "LayoutModel",
      "state": {}
     },
     "8046c97ecafa4551823c047dda8e8761": {
      "model_module": "@jupyter-widgets/base",
      "model_module_version": "2.0.0",
      "model_name": "LayoutModel",
      "state": {}
     },
     "814da1f5431b453cb2bc1570b17804df": {
      "model_module": "@jupyter-widgets/controls",
      "model_module_version": "2.0.0",
      "model_name": "HTMLStyleModel",
      "state": {
       "description_width": "",
       "font_size": null,
       "text_color": null
      }
     },
     "859f285d1df841d3a92f41eea9316d11": {
      "model_module": "@jupyter-widgets/controls",
      "model_module_version": "2.0.0",
      "model_name": "HTMLModel",
      "state": {
       "layout": "IPY_MODEL_c6e8fe95f6114a2bbea0d5d743a8c266",
       "style": "IPY_MODEL_3c44b650f3f447b79dc6fcd788253142",
       "value": "Generating test split: "
      }
     },
     "85a6cb39b60e40d596c23934b665266a": {
      "model_module": "@jupyter-widgets/controls",
      "model_module_version": "2.0.0",
      "model_name": "HTMLModel",
      "state": {
       "layout": "IPY_MODEL_32fe75b133cf4c75aa3dda5b371bb0bd",
       "style": "IPY_MODEL_e7741f04bdd445dea80e7057bc19b815",
       "value": " 1500/0 [00:00&lt;00:00, 50208.74 examples/s]"
      }
     },
     "85ae5895ead2460895e13d9f15df8826": {
      "model_module": "@jupyter-widgets/base",
      "model_module_version": "2.0.0",
      "model_name": "LayoutModel",
      "state": {}
     },
     "8715726ce461458ca13dc3cfd1bdc5c1": {
      "model_module": "@jupyter-widgets/base",
      "model_module_version": "2.0.0",
      "model_name": "LayoutModel",
      "state": {}
     },
     "8a2520cd0dcb4928a0d7cced28d0767f": {
      "model_module": "@jupyter-widgets/controls",
      "model_module_version": "2.0.0",
      "model_name": "FloatProgressModel",
      "state": {
       "bar_style": "success",
       "layout": "IPY_MODEL_15ca5ed573d34faf8add5c940e7994c6",
       "max": 3,
       "style": "IPY_MODEL_37c3fa19b6b44ed0977fb784df58b8ed",
       "value": 3
      }
     },
     "8a97ce25b0bb4e6aa031d075bb4f3acc": {
      "model_module": "@jupyter-widgets/base",
      "model_module_version": "2.0.0",
      "model_name": "LayoutModel",
      "state": {}
     },
     "8af81eca4c8e44f0885fa979d9bdada5": {
      "model_module": "@jupyter-widgets/controls",
      "model_module_version": "2.0.0",
      "model_name": "FloatProgressModel",
      "state": {
       "bar_style": "success",
       "layout": "IPY_MODEL_bc8fc4e183904b3697535b2966912d20",
       "max": 147,
       "style": "IPY_MODEL_bd97d22eb1ed4bc78ef56492b7ba794b",
       "value": 147
      }
     },
     "8c83d7e768104143a3a9d34dc602d2e1": {
      "model_module": "@jupyter-widgets/controls",
      "model_module_version": "2.0.0",
      "model_name": "HBoxModel",
      "state": {
       "children": [
        "IPY_MODEL_06fa088d162f42df9d2ec0a3f2744313",
        "IPY_MODEL_59f212280246425a901a6940c98dccd8",
        "IPY_MODEL_c19ee62e4a9a41f3b007aafc16cceed6"
       ],
       "layout": "IPY_MODEL_85ae5895ead2460895e13d9f15df8826"
      }
     },
     "8f68fed5bd474939b47de2d87458dc82": {
      "model_module": "@jupyter-widgets/base",
      "model_module_version": "2.0.0",
      "model_name": "LayoutModel",
      "state": {}
     },
     "93b3808a17c64e88956af7a9843b9fd0": {
      "model_module": "@jupyter-widgets/controls",
      "model_module_version": "2.0.0",
      "model_name": "HTMLStyleModel",
      "state": {
       "description_width": "",
       "font_size": null,
       "text_color": null
      }
     },
     "953e37774b024d8a9d68bd1190dca974": {
      "model_module": "@jupyter-widgets/base",
      "model_module_version": "2.0.0",
      "model_name": "LayoutModel",
      "state": {}
     },
     "96a0040ab4b24dc4ae54d1ab808c2530": {
      "model_module": "@jupyter-widgets/base",
      "model_module_version": "2.0.0",
      "model_name": "LayoutModel",
      "state": {}
     },
     "97f0f8c520964e4e8fb1e4d9fb1b4bd6": {
      "model_module": "@jupyter-widgets/controls",
      "model_module_version": "2.0.0",
      "model_name": "HTMLStyleModel",
      "state": {
       "description_width": "",
       "font_size": null,
       "text_color": null
      }
     },
     "97fe186fd28e43fc9f1c232a3c36001a": {
      "model_module": "@jupyter-widgets/controls",
      "model_module_version": "2.0.0",
      "model_name": "HTMLModel",
      "state": {
       "layout": "IPY_MODEL_33730cb1246d4a5895b13894c2035ab2",
       "style": "IPY_MODEL_814da1f5431b453cb2bc1570b17804df",
       "value": " 2.54k/2.54k [00:00&lt;00:00, 70.7kB/s]"
      }
     },
     "9a08c72e2d2f4ea4b3d4573082cc15c1": {
      "model_module": "@jupyter-widgets/controls",
      "model_module_version": "2.0.0",
      "model_name": "HTMLModel",
      "state": {
       "layout": "IPY_MODEL_ea690e15e8934445888bf181a0e58775",
       "style": "IPY_MODEL_246cf6bd724e46d5976d41360649680d",
       "value": " 2.20k/2.20k [00:00&lt;00:00, 82.5kB/s]"
      }
     },
     "9b61403d703a4684be4aca43aaea81f8": {
      "model_module": "@jupyter-widgets/controls",
      "model_module_version": "2.0.0",
      "model_name": "HTMLModel",
      "state": {
       "layout": "IPY_MODEL_efbf35b118584fa79f1132e2878e1fa5",
       "style": "IPY_MODEL_27133e4fe50148ad87a48b12ad612308",
       "value": " 3/3 [00:00&lt;00:00, 224.71it/s]"
      }
     },
     "9b6b469fc0e842a798a68f6d49d5f52e": {
      "model_module": "@jupyter-widgets/controls",
      "model_module_version": "2.0.0",
      "model_name": "HBoxModel",
      "state": {
       "children": [
        "IPY_MODEL_b5884feb827a4d9d91002f7bd5af8087",
        "IPY_MODEL_764f258aff184ab5a43dd63b3cc6e3bb",
        "IPY_MODEL_b11b5ab67a1040979b1072f65cd029ea"
       ],
       "layout": "IPY_MODEL_8046c97ecafa4551823c047dda8e8761"
      }
     },
     "9dcbf576db2145afaf0e242913d93898": {
      "model_module": "@jupyter-widgets/controls",
      "model_module_version": "2.0.0",
      "model_name": "HTMLModel",
      "state": {
       "layout": "IPY_MODEL_c9567a50fbc74a0796124e86534bab8b",
       "style": "IPY_MODEL_acdf7f9ea3d14d72af7acb5e2339fca1",
       "value": " 1.40k/1.40k [00:00&lt;00:00, 33.6kB/s]"
      }
     },
     "a13bbcace26342cc971db9666961ed61": {
      "model_module": "@jupyter-widgets/base",
      "model_module_version": "2.0.0",
      "model_name": "LayoutModel",
      "state": {}
     },
     "a2f29bd4023849b3b62135661991d0da": {
      "model_module": "@jupyter-widgets/controls",
      "model_module_version": "2.0.0",
      "model_name": "FloatProgressModel",
      "state": {
       "bar_style": "success",
       "layout": "IPY_MODEL_43dff6eb7a474201a258c7c29add5551",
       "max": 2537,
       "style": "IPY_MODEL_72023535db2149f8ad0da2bf9ddfd4b8",
       "value": 2537
      }
     },
     "a3897a894b6e4addb48bf7e67d60ceac": {
      "model_module": "@jupyter-widgets/controls",
      "model_module_version": "2.0.0",
      "model_name": "HBoxModel",
      "state": {
       "children": [
        "IPY_MODEL_859f285d1df841d3a92f41eea9316d11",
        "IPY_MODEL_dbaabd6dd4d34cbfa7523ba8c54f87cf",
        "IPY_MODEL_85a6cb39b60e40d596c23934b665266a"
       ],
       "layout": "IPY_MODEL_8a97ce25b0bb4e6aa031d075bb4f3acc"
      }
     },
     "a462f6ea488748969d6eaa9be060a8a4": {
      "model_module": "@jupyter-widgets/base",
      "model_module_version": "2.0.0",
      "model_name": "LayoutModel",
      "state": {}
     },
     "a465123700604be88fa14ac897bf381b": {
      "model_module": "@jupyter-widgets/controls",
      "model_module_version": "2.0.0",
      "model_name": "HTMLModel",
      "state": {
       "layout": "IPY_MODEL_ab6da61c94ef491282bfd28703d067a6",
       "style": "IPY_MODEL_59c06be603614bf2b160fe3095c30034",
       "value": " 500/0 [00:00&lt;00:00, 31105.32 examples/s]"
      }
     },
     "a7795b34c3cb43eb8eca0e89710ec843": {
      "model_module": "@jupyter-widgets/controls",
      "model_module_version": "2.0.0",
      "model_name": "FloatProgressModel",
      "state": {
       "bar_style": "success",
       "layout": "IPY_MODEL_bacfd41609c24613ab27558456e9874a",
       "max": 990345061,
       "style": "IPY_MODEL_2ef1b0c49ef346a48372c8a3d4cfc007",
       "value": 990345061
      }
     },
     "a8d90563d4e04aa6b7e28c84f33c8831": {
      "model_module": "@jupyter-widgets/controls",
      "model_module_version": "2.0.0",
      "model_name": "HTMLModel",
      "state": {
       "layout": "IPY_MODEL_d04706e9e32c406e9f744c9cfd2c8eaf",
       "style": "IPY_MODEL_e15dbab4145b48d3ae9a4cce3be6c8be",
       "value": "Downloading (…)lve/main/config.json: 100%"
      }
     },
     "ab5ae379ea324e5ca92145666eb6629e": {
      "model_module": "@jupyter-widgets/base",
      "model_module_version": "2.0.0",
      "model_name": "LayoutModel",
      "state": {
       "width": "20px"
      }
     },
     "ab6da61c94ef491282bfd28703d067a6": {
      "model_module": "@jupyter-widgets/base",
      "model_module_version": "2.0.0",
      "model_name": "LayoutModel",
      "state": {}
     },
     "abb077bf3aff43018880de02ccf6f3e2": {
      "model_module": "@jupyter-widgets/controls",
      "model_module_version": "2.0.0",
      "model_name": "ProgressStyleModel",
      "state": {
       "description_width": ""
      }
     },
     "ac26b4e688e94f5a8eb705d4685c7d77": {
      "model_module": "@jupyter-widgets/controls",
      "model_module_version": "2.0.0",
      "model_name": "HTMLStyleModel",
      "state": {
       "description_width": "",
       "font_size": null,
       "text_color": null
      }
     },
     "acda1919f1614247a84616871f348243": {
      "model_module": "@jupyter-widgets/controls",
      "model_module_version": "2.0.0",
      "model_name": "HBoxModel",
      "state": {
       "children": [
        "IPY_MODEL_74ef065c01f040289e7194e0dbb3bb6e",
        "IPY_MODEL_6e35a74def12465b82d33555ad679c56",
        "IPY_MODEL_6259cb210dc34c41823a28a158a5d2fc"
       ],
       "layout": "IPY_MODEL_e3862f780a3a46d2b467f3f7fa4d5a6a"
      }
     },
     "acdf7f9ea3d14d72af7acb5e2339fca1": {
      "model_module": "@jupyter-widgets/controls",
      "model_module_version": "2.0.0",
      "model_name": "HTMLStyleModel",
      "state": {
       "description_width": "",
       "font_size": null,
       "text_color": null
      }
     },
     "af32f94e8ee244af879f14e02ffecac4": {
      "model_module": "@jupyter-widgets/base",
      "model_module_version": "2.0.0",
      "model_name": "LayoutModel",
      "state": {
       "width": "20px"
      }
     },
     "b11b5ab67a1040979b1072f65cd029ea": {
      "model_module": "@jupyter-widgets/controls",
      "model_module_version": "2.0.0",
      "model_name": "HTMLModel",
      "state": {
       "layout": "IPY_MODEL_d5bf9c4e002042d187323335b453c0be",
       "style": "IPY_MODEL_560c9acd02ff4e62adf38db4d3fabd98",
       "value": " 4.65k/4.65k [00:00&lt;00:00, 141kB/s]"
      }
     },
     "b2730f7b87eb4b1b82308d3238f0e11c": {
      "model_module": "@jupyter-widgets/base",
      "model_module_version": "2.0.0",
      "model_name": "LayoutModel",
      "state": {}
     },
     "b27e5a8975864b11bc99f6341be3c997": {
      "model_module": "@jupyter-widgets/controls",
      "model_module_version": "2.0.0",
      "model_name": "ProgressStyleModel",
      "state": {
       "description_width": ""
      }
     },
     "b284e09fb2304dfaa8ce02d970c91923": {
      "model_module": "@jupyter-widgets/controls",
      "model_module_version": "2.0.0",
      "model_name": "ProgressStyleModel",
      "state": {
       "description_width": ""
      }
     },
     "b374b589e6e643d2a420d4a9131c5cda": {
      "model_module": "@jupyter-widgets/controls",
      "model_module_version": "2.0.0",
      "model_name": "ProgressStyleModel",
      "state": {
       "description_width": ""
      }
     },
     "b5884feb827a4d9d91002f7bd5af8087": {
      "model_module": "@jupyter-widgets/controls",
      "model_module_version": "2.0.0",
      "model_name": "HTMLModel",
      "state": {
       "layout": "IPY_MODEL_b2730f7b87eb4b1b82308d3238f0e11c",
       "style": "IPY_MODEL_510bda124a7a48b390df50e2dfb25c46",
       "value": "Downloading readme: 100%"
      }
     },
     "b81e87d653344eacb3fb7bad6fb1b4c8": {
      "model_module": "@jupyter-widgets/base",
      "model_module_version": "2.0.0",
      "model_name": "LayoutModel",
      "state": {}
     },
     "bacfd41609c24613ab27558456e9874a": {
      "model_module": "@jupyter-widgets/base",
      "model_module_version": "2.0.0",
      "model_name": "LayoutModel",
      "state": {}
     },
     "bbb2191614554ab2a50db5c48afeb927": {
      "model_module": "@jupyter-widgets/controls",
      "model_module_version": "2.0.0",
      "model_name": "ProgressStyleModel",
      "state": {
       "description_width": ""
      }
     },
     "bc323530906b4d29a38ef52bd0931513": {
      "model_module": "@jupyter-widgets/controls",
      "model_module_version": "2.0.0",
      "model_name": "HTMLModel",
      "state": {
       "layout": "IPY_MODEL_8f68fed5bd474939b47de2d87458dc82",
       "style": "IPY_MODEL_64f836f8dfe34ef49045fa3db0acc724",
       "value": "Generating validation split: "
      }
     },
     "bc8fc4e183904b3697535b2966912d20": {
      "model_module": "@jupyter-widgets/base",
      "model_module_version": "2.0.0",
      "model_name": "LayoutModel",
      "state": {}
     },
     "bd97d22eb1ed4bc78ef56492b7ba794b": {
      "model_module": "@jupyter-widgets/controls",
      "model_module_version": "2.0.0",
      "model_name": "ProgressStyleModel",
      "state": {
       "description_width": ""
      }
     },
     "c0a526bd40c04868be7aa20c5fea3eb0": {
      "model_module": "@jupyter-widgets/base",
      "model_module_version": "2.0.0",
      "model_name": "LayoutModel",
      "state": {}
     },
     "c19ee62e4a9a41f3b007aafc16cceed6": {
      "model_module": "@jupyter-widgets/controls",
      "model_module_version": "2.0.0",
      "model_name": "HTMLModel",
      "state": {
       "layout": "IPY_MODEL_218b29d7faa24d83ac4dd595d3e0fd8e",
       "style": "IPY_MODEL_6a30f19ca90248f7a6ad269d1d730f04",
       "value": " 792k/792k [00:00&lt;00:00, 1.34MB/s]"
      }
     },
     "c3287587955b423b8402a9444f3dd337": {
      "model_module": "@jupyter-widgets/base",
      "model_module_version": "2.0.0",
      "model_name": "LayoutModel",
      "state": {
       "width": "20px"
      }
     },
     "c3f7123da9514ce9880cc419d8fef095": {
      "model_module": "@jupyter-widgets/base",
      "model_module_version": "2.0.0",
      "model_name": "LayoutModel",
      "state": {}
     },
     "c428fbf82ec941f2a48ee0c8bd2a96b8": {
      "model_module": "@jupyter-widgets/base",
      "model_module_version": "2.0.0",
      "model_name": "LayoutModel",
      "state": {}
     },
     "c473d495e4754f39ba416431bb50396e": {
      "model_module": "@jupyter-widgets/controls",
      "model_module_version": "2.0.0",
      "model_name": "FloatProgressModel",
      "state": {
       "bar_style": "success",
       "layout": "IPY_MODEL_af32f94e8ee244af879f14e02ffecac4",
       "max": 1,
       "style": "IPY_MODEL_3a9ed5edab7549d0949361ae43678664",
       "value": 1
      }
     },
     "c4d5a1e2b4ef4bef9e861722d0c6789c": {
      "model_module": "@jupyter-widgets/base",
      "model_module_version": "2.0.0",
      "model_name": "LayoutModel",
      "state": {}
     },
     "c57206d6d3754bbf812cbe7625be1dce": {
      "model_module": "@jupyter-widgets/controls",
      "model_module_version": "2.0.0",
      "model_name": "HTMLModel",
      "state": {
       "layout": "IPY_MODEL_19bf3099ca4b4d9c946b4497604e358c",
       "style": "IPY_MODEL_6f5125c91a7c49c3a5c78fc316e99442",
       "value": " 990M/990M [06:10&lt;00:00, 2.97MB/s]"
      }
     },
     "c6e8fe95f6114a2bbea0d5d743a8c266": {
      "model_module": "@jupyter-widgets/base",
      "model_module_version": "2.0.0",
      "model_name": "LayoutModel",
      "state": {}
     },
     "c9567a50fbc74a0796124e86534bab8b": {
      "model_module": "@jupyter-widgets/base",
      "model_module_version": "2.0.0",
      "model_name": "LayoutModel",
      "state": {}
     },
     "ca3a9cb2a0fd4740b034466bbcd38823": {
      "model_module": "@jupyter-widgets/controls",
      "model_module_version": "2.0.0",
      "model_name": "FloatProgressModel",
      "state": {
       "bar_style": "success",
       "layout": "IPY_MODEL_2c6cc152b87b45ecafa5db43a039d433",
       "max": 2201,
       "style": "IPY_MODEL_0ebb643cc06e4735bf42715d3d4dce08",
       "value": 2201
      }
     },
     "ce082ee498144829a0ab6ec77f56b8e9": {
      "model_module": "@jupyter-widgets/controls",
      "model_module_version": "2.0.0",
      "model_name": "HTMLStyleModel",
      "state": {
       "description_width": "",
       "font_size": null,
       "text_color": null
      }
     },
     "ce84638f5bb346e0a4db23caeee4acf7": {
      "model_module": "@jupyter-widgets/controls",
      "model_module_version": "2.0.0",
      "model_name": "HTMLModel",
      "state": {
       "layout": "IPY_MODEL_1a9d7c346a99478bbb5ac29977cd930c",
       "style": "IPY_MODEL_608e22ffa5444c51b0e43442ec2eb52d",
       "value": "Downloading data files: 100%"
      }
     },
     "cf1a4ab334554eec9e4e77885819425f": {
      "model_module": "@jupyter-widgets/base",
      "model_module_version": "2.0.0",
      "model_name": "LayoutModel",
      "state": {}
     },
     "cf50da93ee324297bf4743d44a0e04e7": {
      "model_module": "@jupyter-widgets/base",
      "model_module_version": "2.0.0",
      "model_name": "LayoutModel",
      "state": {}
     },
     "d04706e9e32c406e9f744c9cfd2c8eaf": {
      "model_module": "@jupyter-widgets/base",
      "model_module_version": "2.0.0",
      "model_name": "LayoutModel",
      "state": {}
     },
     "d06355984c654f648468112776249fd9": {
      "model_module": "@jupyter-widgets/controls",
      "model_module_version": "2.0.0",
      "model_name": "FloatProgressModel",
      "state": {
       "bar_style": "success",
       "layout": "IPY_MODEL_0c7cc1440dd44042b11dd2bd7b50a754",
       "max": 3,
       "style": "IPY_MODEL_20ccfc627d034a25833275275ea8b626",
       "value": 3
      }
     },
     "d5bf9c4e002042d187323335b453c0be": {
      "model_module": "@jupyter-widgets/base",
      "model_module_version": "2.0.0",
      "model_name": "LayoutModel",
      "state": {}
     },
     "dbaabd6dd4d34cbfa7523ba8c54f87cf": {
      "model_module": "@jupyter-widgets/controls",
      "model_module_version": "2.0.0",
      "model_name": "FloatProgressModel",
      "state": {
       "bar_style": "success",
       "layout": "IPY_MODEL_ab5ae379ea324e5ca92145666eb6629e",
       "max": 1,
       "style": "IPY_MODEL_5f3b5679ceb643e18b925440a8a2f7d5",
       "value": 1
      }
     },
     "dbd199ab17fb499dba841d8fef18a39d": {
      "model_module": "@jupyter-widgets/controls",
      "model_module_version": "2.0.0",
      "model_name": "HTMLModel",
      "state": {
       "layout": "IPY_MODEL_439e458b158441dfae448164b32c67b2",
       "style": "IPY_MODEL_ce082ee498144829a0ab6ec77f56b8e9",
       "value": " 147/147 [00:00&lt;00:00, 7.61kB/s]"
      }
     },
     "dd2c962d98be4b63b6c285a412728de9": {
      "model_module": "@jupyter-widgets/controls",
      "model_module_version": "2.0.0",
      "model_name": "HBoxModel",
      "state": {
       "children": [
        "IPY_MODEL_6c2828869de7456194b8a6e747007bf3",
        "IPY_MODEL_ca3a9cb2a0fd4740b034466bbcd38823",
        "IPY_MODEL_9a08c72e2d2f4ea4b3d4573082cc15c1"
       ],
       "layout": "IPY_MODEL_b81e87d653344eacb3fb7bad6fb1b4c8"
      }
     },
     "dd2d3a94f2f348d4a21a8968e4e7f409": {
      "model_module": "@jupyter-widgets/controls",
      "model_module_version": "2.0.0",
      "model_name": "HBoxModel",
      "state": {
       "children": [
        "IPY_MODEL_69ab01d5d71547b5b3d67217692d9e28",
        "IPY_MODEL_a2f29bd4023849b3b62135661991d0da",
        "IPY_MODEL_97fe186fd28e43fc9f1c232a3c36001a"
       ],
       "layout": "IPY_MODEL_4d5bd2be3d9c4e48ad52afdfddf3ff46"
      }
     },
     "de21f2cf42d946bbb4ec8413f7fe0675": {
      "model_module": "@jupyter-widgets/controls",
      "model_module_version": "2.0.0",
      "model_name": "HTMLStyleModel",
      "state": {
       "description_width": "",
       "font_size": null,
       "text_color": null
      }
     },
     "de717c74702e4a5c9a1d9f62c9af6e76": {
      "model_module": "@jupyter-widgets/controls",
      "model_module_version": "2.0.0",
      "model_name": "HTMLStyleModel",
      "state": {
       "description_width": "",
       "font_size": null,
       "text_color": null
      }
     },
     "e15dbab4145b48d3ae9a4cce3be6c8be": {
      "model_module": "@jupyter-widgets/controls",
      "model_module_version": "2.0.0",
      "model_name": "HTMLStyleModel",
      "state": {
       "description_width": "",
       "font_size": null,
       "text_color": null
      }
     },
     "e1f7d7390fcc4f3d99c3006aafb81035": {
      "model_module": "@jupyter-widgets/controls",
      "model_module_version": "2.0.0",
      "model_name": "FloatProgressModel",
      "state": {
       "bar_style": "success",
       "layout": "IPY_MODEL_e555adf23e4346d3bf3f22a9292f2bac",
       "max": 3,
       "style": "IPY_MODEL_b374b589e6e643d2a420d4a9131c5cda",
       "value": 3
      }
     },
     "e37248431adf4fc6a5b49d3d79b8e27f": {
      "model_module": "@jupyter-widgets/base",
      "model_module_version": "2.0.0",
      "model_name": "LayoutModel",
      "state": {}
     },
     "e3862f780a3a46d2b467f3f7fa4d5a6a": {
      "model_module": "@jupyter-widgets/base",
      "model_module_version": "2.0.0",
      "model_name": "LayoutModel",
      "state": {}
     },
     "e555adf23e4346d3bf3f22a9292f2bac": {
      "model_module": "@jupyter-widgets/base",
      "model_module_version": "2.0.0",
      "model_name": "LayoutModel",
      "state": {}
     },
     "e58fa50ebcd2445b9abcbee8a38fb784": {
      "model_module": "@jupyter-widgets/controls",
      "model_module_version": "2.0.0",
      "model_name": "HTMLModel",
      "state": {
       "layout": "IPY_MODEL_f58fdb0a13594fedb21de79bdcbe083a",
       "style": "IPY_MODEL_1c91e5298f864f5abb867d9cbe70e13b",
       "value": "Downloading (…)neration_config.json: 100%"
      }
     },
     "e60a5415e1804bdbb92e5f4f5cacc417": {
      "model_module": "@jupyter-widgets/controls",
      "model_module_version": "2.0.0",
      "model_name": "FloatProgressModel",
      "state": {
       "bar_style": "success",
       "layout": "IPY_MODEL_1f4f805a9f2b407f8a925d6fa4b7e204",
       "max": 1353147,
       "style": "IPY_MODEL_70b4bb345835414682e68fde16370c84",
       "value": 1353147
      }
     },
     "e7741f04bdd445dea80e7057bc19b815": {
      "model_module": "@jupyter-widgets/controls",
      "model_module_version": "2.0.0",
      "model_name": "HTMLStyleModel",
      "state": {
       "description_width": "",
       "font_size": null,
       "text_color": null
      }
     },
     "e7b6b615853749279e81616747635971": {
      "model_module": "@jupyter-widgets/controls",
      "model_module_version": "2.0.0",
      "model_name": "HTMLStyleModel",
      "state": {
       "description_width": "",
       "font_size": null,
       "text_color": null
      }
     },
     "e95c7fb270bc470db1a17f894a688945": {
      "model_module": "@jupyter-widgets/controls",
      "model_module_version": "2.0.0",
      "model_name": "HTMLModel",
      "state": {
       "layout": "IPY_MODEL_204ccfb213e847a18b2d9f4d59cf197e",
       "style": "IPY_MODEL_de717c74702e4a5c9a1d9f62c9af6e76",
       "value": "Generating train split: "
      }
     },
     "ea690e15e8934445888bf181a0e58775": {
      "model_module": "@jupyter-widgets/base",
      "model_module_version": "2.0.0",
      "model_name": "LayoutModel",
      "state": {}
     },
     "ea73d30e0ffa4466ab7e0f183d7cf49d": {
      "model_module": "@jupyter-widgets/base",
      "model_module_version": "2.0.0",
      "model_name": "LayoutModel",
      "state": {}
     },
     "ebcb915571904c58ae2560e23e47d895": {
      "model_module": "@jupyter-widgets/base",
      "model_module_version": "2.0.0",
      "model_name": "LayoutModel",
      "state": {}
     },
     "ef9c1320ad2f4e43bd3cd93ba81adcca": {
      "model_module": "@jupyter-widgets/base",
      "model_module_version": "2.0.0",
      "model_name": "LayoutModel",
      "state": {}
     },
     "efbf35b118584fa79f1132e2878e1fa5": {
      "model_module": "@jupyter-widgets/base",
      "model_module_version": "2.0.0",
      "model_name": "LayoutModel",
      "state": {}
     },
     "f010502228224fb592c8f16766d18335": {
      "model_module": "@jupyter-widgets/controls",
      "model_module_version": "2.0.0",
      "model_name": "HTMLModel",
      "state": {
       "layout": "IPY_MODEL_953e37774b024d8a9d68bd1190dca974",
       "style": "IPY_MODEL_159682c8fe634cb988dd7acd4e828fa3",
       "value": " 442k/442k [00:00&lt;00:00, 1.07MB/s]"
      }
     },
     "f543e2258684407ebce440d5e8819205": {
      "model_module": "@jupyter-widgets/controls",
      "model_module_version": "2.0.0",
      "model_name": "HBoxModel",
      "state": {
       "children": [
        "IPY_MODEL_a8d90563d4e04aa6b7e28c84f33c8831",
        "IPY_MODEL_741be77ce64f4e2baeae80f7cf44a122",
        "IPY_MODEL_9dcbf576db2145afaf0e242913d93898"
       ],
       "layout": "IPY_MODEL_a462f6ea488748969d6eaa9be060a8a4"
      }
     },
     "f58fdb0a13594fedb21de79bdcbe083a": {
      "model_module": "@jupyter-widgets/base",
      "model_module_version": "2.0.0",
      "model_name": "LayoutModel",
      "state": {}
     },
     "f742a9486dc049f3936bb73d511a1365": {
      "model_module": "@jupyter-widgets/base",
      "model_module_version": "2.0.0",
      "model_name": "LayoutModel",
      "state": {}
     },
     "f775ba3bee2846828cee5812967b2842": {
      "model_module": "@jupyter-widgets/controls",
      "model_module_version": "2.0.0",
      "model_name": "HBoxModel",
      "state": {
       "children": [
        "IPY_MODEL_781618960d3646d08b8e192ece04cd46",
        "IPY_MODEL_a7795b34c3cb43eb8eca0e89710ec843",
        "IPY_MODEL_c57206d6d3754bbf812cbe7625be1dce"
       ],
       "layout": "IPY_MODEL_49ec2b9090b8491a898670f05bec9a62"
      }
     },
     "f7b0ffdc936a473292388a7cf6dcf4d7": {
      "model_module": "@jupyter-widgets/controls",
      "model_module_version": "2.0.0",
      "model_name": "FloatProgressModel",
      "state": {
       "bar_style": "success",
       "layout": "IPY_MODEL_ea73d30e0ffa4466ab7e0f183d7cf49d",
       "max": 11321474,
       "style": "IPY_MODEL_b284e09fb2304dfaa8ce02d970c91923",
       "value": 11321474
      }
     },
     "f7f482e7edeb458191e8d360bcf39b4f": {
      "model_module": "@jupyter-widgets/base",
      "model_module_version": "2.0.0",
      "model_name": "LayoutModel",
      "state": {}
     },
     "fa892869efcf4ab9bd4542b228d69786": {
      "model_module": "@jupyter-widgets/controls",
      "model_module_version": "2.0.0",
      "model_name": "FloatProgressModel",
      "state": {
       "bar_style": "success",
       "layout": "IPY_MODEL_c3287587955b423b8402a9444f3dd337",
       "max": 1,
       "style": "IPY_MODEL_b27e5a8975864b11bc99f6341be3c997",
       "value": 1
      }
     },
     "fd86b7c0c5c4436782bf8cdd990a1a0a": {
      "model_module": "@jupyter-widgets/controls",
      "model_module_version": "2.0.0",
      "model_name": "HBoxModel",
      "state": {
       "children": [
        "IPY_MODEL_26ffa3db853844ec86c3acaabac603ce",
        "IPY_MODEL_f7b0ffdc936a473292388a7cf6dcf4d7",
        "IPY_MODEL_096c3c4ce27c4057ba0457cec07cc0d0"
       ],
       "layout": "IPY_MODEL_f742a9486dc049f3936bb73d511a1365"
      }
     },
     "fdeca6bd076c45fc8dfedefdc0a9eb8d": {
      "model_module": "@jupyter-widgets/controls",
      "model_module_version": "2.0.0",
      "model_name": "HTMLModel",
      "state": {
       "layout": "IPY_MODEL_6ba9789fb39046458d565a72fca4d337",
       "style": "IPY_MODEL_3c7c4f0e53164f73848820d99dfd2176",
       "value": " 1.35M/1.35M [00:00&lt;00:00, 1.94MB/s]"
      }
     }
    },
    "version_major": 2,
    "version_minor": 0
   }
  }
 },
 "nbformat": 4,
 "nbformat_minor": 5
}
